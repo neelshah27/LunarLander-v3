{
 "cells": [
  {
   "cell_type": "code",
   "execution_count": 1,
   "metadata": {},
   "outputs": [],
   "source": [
    "import gymnasium as gym\n",
    "from stable_baselines3 import A2C\n",
    "from stable_baselines3.common.env_util import make_vec_env\n",
    "from stable_baselines3.common.callbacks import BaseCallback, EvalCallback\n",
    "\n",
    "# supress warnings\n",
    "import warnings\n",
    "warnings.filterwarnings(\"ignore\")\n"
   ]
  },
  {
   "cell_type": "code",
   "execution_count": 2,
   "metadata": {},
   "outputs": [],
   "source": [
    "env = gym.make(\"LunarLander-v3\", render_mode=\"human\")\n",
    "vec_env = make_vec_env(lambda: env, n_envs=1)"
   ]
  },
  {
   "cell_type": "code",
   "execution_count": 3,
   "metadata": {},
   "outputs": [],
   "source": [
    "eval_callback = EvalCallback(\n",
    "    env, \n",
    "    best_model_save_path='./logs/',\n",
    "    log_path='./logs/',\n",
    "    eval_freq=10000,\n",
    "    deterministic=True,\n",
    "    render=False\n",
    ")\n"
   ]
  },
  {
   "cell_type": "code",
   "execution_count": 11,
   "metadata": {},
   "outputs": [
    {
     "data": {
      "application/vnd.jupyter.widget-view+json": {
       "model_id": "a5d121234c384bf6b8fd446e66c3293e",
       "version_major": 2,
       "version_minor": 0
      },
      "text/plain": [
       "Output()"
      ]
     },
     "metadata": {},
     "output_type": "display_data"
    },
    {
     "name": "stdout",
     "output_type": "stream",
     "text": [
      "Using cuda device\n"
     ]
    },
    {
     "name": "stderr",
     "output_type": "stream",
     "text": [
      "c:\\Users\\faree\\AppData\\Local\\Programs\\Python\\Python311\\Lib\\site-packages\\stable_baselines3\\common\\on_policy_algorithm.py:150: UserWarning: You are trying to run A2C on the GPU, but it is primarily intended to run on the CPU when not using a CNN policy (you are using ActorCriticPolicy which should be a MlpPolicy). See https://github.com/DLR-RM/stable-baselines3/issues/1245 for more info. You can pass `device='cpu'` or `export CUDA_VISIBLE_DEVICES=` to force using the CPU.Note: The model will train, but the GPU utilization will be poor and the training might take longer than on CPU.\n",
      "  warnings.warn(\n"
     ]
    },
    {
     "name": "stdout",
     "output_type": "stream",
     "text": [
      "------------------------------------\n",
      "| rollout/              |          |\n",
      "|    ep_len_mean        | 142      |\n",
      "|    ep_rew_mean        | -298     |\n",
      "| time/                 |          |\n",
      "|    fps                | 48       |\n",
      "|    iterations         | 100      |\n",
      "|    time_elapsed       | 10       |\n",
      "|    total_timesteps    | 500      |\n",
      "| train/                |          |\n",
      "|    entropy_loss       | -1.06    |\n",
      "|    explained_variance | -0.00131 |\n",
      "|    learning_rate      | 0.001    |\n",
      "|    n_updates          | 99       |\n",
      "|    policy_loss        | -19.2    |\n",
      "|    value_loss         | 346      |\n",
      "------------------------------------\n"
     ]
    },
    {
     "name": "stdout",
     "output_type": "stream",
     "text": [
      "------------------------------------\n",
      "| rollout/              |          |\n",
      "|    ep_len_mean        | 118      |\n",
      "|    ep_rew_mean        | -404     |\n",
      "| time/                 |          |\n",
      "|    fps                | 48       |\n",
      "|    iterations         | 200      |\n",
      "|    time_elapsed       | 20       |\n",
      "|    total_timesteps    | 1000     |\n",
      "| train/                |          |\n",
      "|    entropy_loss       | -1.32    |\n",
      "|    explained_variance | 1.21e-05 |\n",
      "|    learning_rate      | 0.001    |\n",
      "|    n_updates          | 199      |\n",
      "|    policy_loss        | -8.24    |\n",
      "|    value_loss         | 64.3     |\n",
      "------------------------------------\n"
     ]
    },
    {
     "name": "stdout",
     "output_type": "stream",
     "text": [
      "-------------------------------------\n",
      "| rollout/              |           |\n",
      "|    ep_len_mean        | 124       |\n",
      "|    ep_rew_mean        | -446      |\n",
      "| time/                 |           |\n",
      "|    fps                | 48        |\n",
      "|    iterations         | 300       |\n",
      "|    time_elapsed       | 31        |\n",
      "|    total_timesteps    | 1500      |\n",
      "| train/                |           |\n",
      "|    entropy_loss       | -1.28     |\n",
      "|    explained_variance | -0.000577 |\n",
      "|    learning_rate      | 0.001     |\n",
      "|    n_updates          | 299       |\n",
      "|    policy_loss        | 1.37      |\n",
      "|    value_loss         | 1.89      |\n",
      "-------------------------------------\n"
     ]
    },
    {
     "name": "stdout",
     "output_type": "stream",
     "text": [
      "-------------------------------------\n",
      "| rollout/              |           |\n",
      "|    ep_len_mean        | 128       |\n",
      "|    ep_rew_mean        | -479      |\n",
      "| time/                 |           |\n",
      "|    fps                | 48        |\n",
      "|    iterations         | 400       |\n",
      "|    time_elapsed       | 41        |\n",
      "|    total_timesteps    | 2000      |\n",
      "| train/                |           |\n",
      "|    entropy_loss       | -0.396    |\n",
      "|    explained_variance | -2.26e-05 |\n",
      "|    learning_rate      | 0.001     |\n",
      "|    n_updates          | 399       |\n",
      "|    policy_loss        | -2.24     |\n",
      "|    value_loss         | 676       |\n",
      "-------------------------------------\n"
     ]
    },
    {
     "name": "stdout",
     "output_type": "stream",
     "text": [
      "-------------------------------------\n",
      "| rollout/              |           |\n",
      "|    ep_len_mean        | 121       |\n",
      "|    ep_rew_mean        | -499      |\n",
      "| time/                 |           |\n",
      "|    fps                | 48        |\n",
      "|    iterations         | 500       |\n",
      "|    time_elapsed       | 52        |\n",
      "|    total_timesteps    | 2500      |\n",
      "| train/                |           |\n",
      "|    entropy_loss       | -0.619    |\n",
      "|    explained_variance | -2.44e-05 |\n",
      "|    learning_rate      | 0.001     |\n",
      "|    n_updates          | 499       |\n",
      "|    policy_loss        | -3.19     |\n",
      "|    value_loss         | 391       |\n",
      "-------------------------------------\n"
     ]
    },
    {
     "name": "stdout",
     "output_type": "stream",
     "text": [
      "------------------------------------\n",
      "| rollout/              |          |\n",
      "|    ep_len_mean        | 124      |\n",
      "|    ep_rew_mean        | -490     |\n",
      "| time/                 |          |\n",
      "|    fps                | 48       |\n",
      "|    iterations         | 600      |\n",
      "|    time_elapsed       | 62       |\n",
      "|    total_timesteps    | 3000     |\n",
      "| train/                |          |\n",
      "|    entropy_loss       | -1.15    |\n",
      "|    explained_variance | 0.173    |\n",
      "|    learning_rate      | 0.001    |\n",
      "|    n_updates          | 599      |\n",
      "|    policy_loss        | -12.1    |\n",
      "|    value_loss         | 170      |\n",
      "------------------------------------\n"
     ]
    },
    {
     "name": "stdout",
     "output_type": "stream",
     "text": [
      "------------------------------------\n",
      "| rollout/              |          |\n",
      "|    ep_len_mean        | 133      |\n",
      "|    ep_rew_mean        | -482     |\n",
      "| time/                 |          |\n",
      "|    fps                | 48       |\n",
      "|    iterations         | 700      |\n",
      "|    time_elapsed       | 72       |\n",
      "|    total_timesteps    | 3500     |\n",
      "| train/                |          |\n",
      "|    entropy_loss       | -0.749   |\n",
      "|    explained_variance | 0.000315 |\n",
      "|    learning_rate      | 0.001    |\n",
      "|    n_updates          | 699      |\n",
      "|    policy_loss        | -6.27    |\n",
      "|    value_loss         | 52.3     |\n",
      "------------------------------------\n"
     ]
    },
    {
     "name": "stdout",
     "output_type": "stream",
     "text": [
      "------------------------------------\n",
      "| rollout/              |          |\n",
      "|    ep_len_mean        | 132      |\n",
      "|    ep_rew_mean        | -472     |\n",
      "| time/                 |          |\n",
      "|    fps                | 48       |\n",
      "|    iterations         | 800      |\n",
      "|    time_elapsed       | 82       |\n",
      "|    total_timesteps    | 4000     |\n",
      "| train/                |          |\n",
      "|    entropy_loss       | -0.968   |\n",
      "|    explained_variance | 0.205    |\n",
      "|    learning_rate      | 0.001    |\n",
      "|    n_updates          | 799      |\n",
      "|    policy_loss        | 3.97     |\n",
      "|    value_loss         | 30.9     |\n",
      "------------------------------------\n"
     ]
    },
    {
     "name": "stdout",
     "output_type": "stream",
     "text": [
      "------------------------------------\n",
      "| rollout/              |          |\n",
      "|    ep_len_mean        | 156      |\n",
      "|    ep_rew_mean        | -449     |\n",
      "| time/                 |          |\n",
      "|    fps                | 48       |\n",
      "|    iterations         | 900      |\n",
      "|    time_elapsed       | 93       |\n",
      "|    total_timesteps    | 4500     |\n",
      "| train/                |          |\n",
      "|    entropy_loss       | -0.773   |\n",
      "|    explained_variance | -0.0103  |\n",
      "|    learning_rate      | 0.001    |\n",
      "|    n_updates          | 899      |\n",
      "|    policy_loss        | 7.85     |\n",
      "|    value_loss         | 160      |\n",
      "------------------------------------\n"
     ]
    },
    {
     "name": "stdout",
     "output_type": "stream",
     "text": [
      "------------------------------------\n",
      "| rollout/              |          |\n",
      "|    ep_len_mean        | 157      |\n",
      "|    ep_rew_mean        | -431     |\n",
      "| time/                 |          |\n",
      "|    fps                | 48       |\n",
      "|    iterations         | 1000     |\n",
      "|    time_elapsed       | 103      |\n",
      "|    total_timesteps    | 5000     |\n",
      "| train/                |          |\n",
      "|    entropy_loss       | -0.634   |\n",
      "|    explained_variance | -0.0029  |\n",
      "|    learning_rate      | 0.001    |\n",
      "|    n_updates          | 999      |\n",
      "|    policy_loss        | -0.573   |\n",
      "|    value_loss         | 6.15     |\n",
      "------------------------------------\n"
     ]
    },
    {
     "name": "stdout",
     "output_type": "stream",
     "text": [
      "------------------------------------\n",
      "| rollout/              |          |\n",
      "|    ep_len_mean        | 161      |\n",
      "|    ep_rew_mean        | -414     |\n",
      "| time/                 |          |\n",
      "|    fps                | 48       |\n",
      "|    iterations         | 1100     |\n",
      "|    time_elapsed       | 113      |\n",
      "|    total_timesteps    | 5500     |\n",
      "| train/                |          |\n",
      "|    entropy_loss       | -0.387   |\n",
      "|    explained_variance | -0.00553 |\n",
      "|    learning_rate      | 0.001    |\n",
      "|    n_updates          | 1099     |\n",
      "|    policy_loss        | 1.91     |\n",
      "|    value_loss         | 27.6     |\n",
      "------------------------------------\n"
     ]
    },
    {
     "name": "stdout",
     "output_type": "stream",
     "text": [
      "-------------------------------------\n",
      "| rollout/              |           |\n",
      "|    ep_len_mean        | 164       |\n",
      "|    ep_rew_mean        | -407      |\n",
      "| time/                 |           |\n",
      "|    fps                | 48        |\n",
      "|    iterations         | 1200      |\n",
      "|    time_elapsed       | 124       |\n",
      "|    total_timesteps    | 6000      |\n",
      "| train/                |           |\n",
      "|    entropy_loss       | -0.823    |\n",
      "|    explained_variance | -0.000391 |\n",
      "|    learning_rate      | 0.001     |\n",
      "|    n_updates          | 1199      |\n",
      "|    policy_loss        | -4.66     |\n",
      "|    value_loss         | 23.4      |\n",
      "-------------------------------------\n"
     ]
    },
    {
     "name": "stdout",
     "output_type": "stream",
     "text": [
      "------------------------------------\n",
      "| rollout/              |          |\n",
      "|    ep_len_mean        | 179      |\n",
      "|    ep_rew_mean        | -404     |\n",
      "| time/                 |          |\n",
      "|    fps                | 48       |\n",
      "|    iterations         | 1300     |\n",
      "|    time_elapsed       | 134      |\n",
      "|    total_timesteps    | 6500     |\n",
      "| train/                |          |\n",
      "|    entropy_loss       | -0.187   |\n",
      "|    explained_variance | 0.00369  |\n",
      "|    learning_rate      | 0.001    |\n",
      "|    n_updates          | 1299     |\n",
      "|    policy_loss        | -3.24    |\n",
      "|    value_loss         | 10       |\n",
      "------------------------------------\n"
     ]
    },
    {
     "name": "stdout",
     "output_type": "stream",
     "text": [
      "-------------------------------------\n",
      "| rollout/              |           |\n",
      "|    ep_len_mean        | 184       |\n",
      "|    ep_rew_mean        | -389      |\n",
      "| time/                 |           |\n",
      "|    fps                | 48        |\n",
      "|    iterations         | 1400      |\n",
      "|    time_elapsed       | 144       |\n",
      "|    total_timesteps    | 7000      |\n",
      "| train/                |           |\n",
      "|    entropy_loss       | -0.805    |\n",
      "|    explained_variance | -0.000173 |\n",
      "|    learning_rate      | 0.001     |\n",
      "|    n_updates          | 1399      |\n",
      "|    policy_loss        | 1.55      |\n",
      "|    value_loss         | 10.7      |\n",
      "-------------------------------------\n"
     ]
    },
    {
     "name": "stdout",
     "output_type": "stream",
     "text": [
      "------------------------------------\n",
      "| rollout/              |          |\n",
      "|    ep_len_mean        | 192      |\n",
      "|    ep_rew_mean        | -381     |\n",
      "| time/                 |          |\n",
      "|    fps                | 48       |\n",
      "|    iterations         | 1500     |\n",
      "|    time_elapsed       | 155      |\n",
      "|    total_timesteps    | 7500     |\n",
      "| train/                |          |\n",
      "|    entropy_loss       | -0.72    |\n",
      "|    explained_variance | 0.00011  |\n",
      "|    learning_rate      | 0.001    |\n",
      "|    n_updates          | 1499     |\n",
      "|    policy_loss        | -0.441   |\n",
      "|    value_loss         | 1.34     |\n",
      "------------------------------------\n"
     ]
    },
    {
     "name": "stdout",
     "output_type": "stream",
     "text": [
      "-------------------------------------\n",
      "| rollout/              |           |\n",
      "|    ep_len_mean        | 195       |\n",
      "|    ep_rew_mean        | -369      |\n",
      "| time/                 |           |\n",
      "|    fps                | 48        |\n",
      "|    iterations         | 1600      |\n",
      "|    time_elapsed       | 165       |\n",
      "|    total_timesteps    | 8000      |\n",
      "| train/                |           |\n",
      "|    entropy_loss       | -0.0663   |\n",
      "|    explained_variance | -2.29e-05 |\n",
      "|    learning_rate      | 0.001     |\n",
      "|    n_updates          | 1599      |\n",
      "|    policy_loss        | 0.0696    |\n",
      "|    value_loss         | 77.1      |\n",
      "-------------------------------------\n"
     ]
    },
    {
     "name": "stdout",
     "output_type": "stream",
     "text": [
      "------------------------------------\n",
      "| rollout/              |          |\n",
      "|    ep_len_mean        | 197      |\n",
      "|    ep_rew_mean        | -357     |\n",
      "| time/                 |          |\n",
      "|    fps                | 48       |\n",
      "|    iterations         | 1700     |\n",
      "|    time_elapsed       | 175      |\n",
      "|    total_timesteps    | 8500     |\n",
      "| train/                |          |\n",
      "|    entropy_loss       | -0.11    |\n",
      "|    explained_variance | 7.16e-05 |\n",
      "|    learning_rate      | 0.001    |\n",
      "|    n_updates          | 1699     |\n",
      "|    policy_loss        | 0.0278   |\n",
      "|    value_loss         | 8.76     |\n",
      "------------------------------------\n"
     ]
    },
    {
     "name": "stdout",
     "output_type": "stream",
     "text": [
      "-------------------------------------\n",
      "| rollout/              |           |\n",
      "|    ep_len_mean        | 197       |\n",
      "|    ep_rew_mean        | -351      |\n",
      "| time/                 |           |\n",
      "|    fps                | 48        |\n",
      "|    iterations         | 1800      |\n",
      "|    time_elapsed       | 186       |\n",
      "|    total_timesteps    | 9000      |\n",
      "| train/                |           |\n",
      "|    entropy_loss       | -0.612    |\n",
      "|    explained_variance | -5.25e-06 |\n",
      "|    learning_rate      | 0.001     |\n",
      "|    n_updates          | 1799      |\n",
      "|    policy_loss        | 4.85      |\n",
      "|    value_loss         | 96.3      |\n",
      "-------------------------------------\n"
     ]
    },
    {
     "data": {
      "text/html": [
       "<pre style=\"white-space:pre;overflow-x:auto;line-height:normal;font-family:Menlo,'DejaVu Sans Mono',consolas,'Courier New',monospace\">c:\\Users\\faree\\AppData\\Local\\Programs\\Python\\Python311\\Lib\\site-packages\\stable_baselines3\\common\\evaluation.py:67:\n",
       "UserWarning: Evaluation environment is not wrapped with a ``Monitor`` wrapper. This may result in reporting \n",
       "modified episode lengths and rewards, if other wrappers happen to modify these. Consider wrapping environment first\n",
       "with ``Monitor`` wrapper.\n",
       "  warnings.warn(\n",
       "</pre>\n"
      ],
      "text/plain": [
       "c:\\Users\\faree\\AppData\\Local\\Programs\\Python\\Python311\\Lib\\site-packages\\stable_baselines3\\common\\evaluation.py:67:\n",
       "UserWarning: Evaluation environment is not wrapped with a ``Monitor`` wrapper. This may result in reporting \n",
       "modified episode lengths and rewards, if other wrappers happen to modify these. Consider wrapping environment first\n",
       "with ``Monitor`` wrapper.\n",
       "  warnings.warn(\n"
      ]
     },
     "metadata": {},
     "output_type": "display_data"
    },
    {
     "data": {
      "text/html": [
       "<pre style=\"white-space:pre;overflow-x:auto;line-height:normal;font-family:Menlo,'DejaVu Sans Mono',consolas,'Courier New',monospace\">Eval num_timesteps=9397, episode_reward=-509.01 +/- 761.43\n",
       "</pre>\n"
      ],
      "text/plain": [
       "Eval num_timesteps=9397, episode_reward=-509.01 +/- 761.43\n"
      ]
     },
     "metadata": {},
     "output_type": "display_data"
    },
    {
     "data": {
      "text/html": [
       "<pre style=\"white-space:pre;overflow-x:auto;line-height:normal;font-family:Menlo,'DejaVu Sans Mono',consolas,'Courier New',monospace\">Episode length: 504.80 +/- 229.16\n",
       "</pre>\n"
      ],
      "text/plain": [
       "Episode length: 504.80 +/- 229.16\n"
      ]
     },
     "metadata": {},
     "output_type": "display_data"
    },
    {
     "name": "stdout",
     "output_type": "stream",
     "text": [
      "-------------------------------------\n",
      "| eval/                 |           |\n",
      "|    mean_ep_length     | 505       |\n",
      "|    mean_reward        | -509      |\n",
      "| time/                 |           |\n",
      "|    total_timesteps    | 9397      |\n",
      "| train/                |           |\n",
      "|    entropy_loss       | -0.422    |\n",
      "|    explained_variance | -1.57e-05 |\n",
      "|    learning_rate      | 0.001     |\n",
      "|    n_updates          | 1879      |\n",
      "|    policy_loss        | -1.08     |\n",
      "|    value_loss         | 5.42      |\n",
      "-------------------------------------\n"
     ]
    },
    {
     "data": {
      "text/html": [
       "<pre style=\"white-space:pre;overflow-x:auto;line-height:normal;font-family:Menlo,'DejaVu Sans Mono',consolas,'Courier New',monospace\">New best mean reward!\n",
       "</pre>\n"
      ],
      "text/plain": [
       "New best mean reward!\n"
      ]
     },
     "metadata": {},
     "output_type": "display_data"
    },
    {
     "name": "stdout",
     "output_type": "stream",
     "text": [
      "------------------------------------\n",
      "| rollout/              |          |\n",
      "|    ep_len_mean        | 199      |\n",
      "|    ep_rew_mean        | -340     |\n",
      "| time/                 |          |\n",
      "|    fps                | 38       |\n",
      "|    iterations         | 1900     |\n",
      "|    time_elapsed       | 248      |\n",
      "|    total_timesteps    | 9500     |\n",
      "| train/                |          |\n",
      "|    entropy_loss       | -0.473   |\n",
      "|    explained_variance | 1.32e-05 |\n",
      "|    learning_rate      | 0.001    |\n",
      "|    n_updates          | 1899     |\n",
      "|    policy_loss        | 1.96     |\n",
      "|    value_loss         | 16.4     |\n",
      "------------------------------------\n"
     ]
    },
    {
     "name": "stdout",
     "output_type": "stream",
     "text": [
      "-------------------------------------\n",
      "| rollout/              |           |\n",
      "|    ep_len_mean        | 203       |\n",
      "|    ep_rew_mean        | -331      |\n",
      "| time/                 |           |\n",
      "|    fps                | 38        |\n",
      "|    iterations         | 2000      |\n",
      "|    time_elapsed       | 258       |\n",
      "|    total_timesteps    | 10000     |\n",
      "| train/                |           |\n",
      "|    entropy_loss       | -0.248    |\n",
      "|    explained_variance | -0.000107 |\n",
      "|    learning_rate      | 0.001     |\n",
      "|    n_updates          | 1999      |\n",
      "|    policy_loss        | -1.63     |\n",
      "|    value_loss         | 6.04      |\n",
      "-------------------------------------\n"
     ]
    },
    {
     "name": "stdout",
     "output_type": "stream",
     "text": [
      "------------------------------------\n",
      "| rollout/              |          |\n",
      "|    ep_len_mean        | 203      |\n",
      "|    ep_rew_mean        | -324     |\n",
      "| time/                 |          |\n",
      "|    fps                | 39       |\n",
      "|    iterations         | 2100     |\n",
      "|    time_elapsed       | 268      |\n",
      "|    total_timesteps    | 10500    |\n",
      "| train/                |          |\n",
      "|    entropy_loss       | -0.575   |\n",
      "|    explained_variance | -0.0036  |\n",
      "|    learning_rate      | 0.001    |\n",
      "|    n_updates          | 2099     |\n",
      "|    policy_loss        | 7.93     |\n",
      "|    value_loss         | 262      |\n",
      "------------------------------------\n"
     ]
    },
    {
     "name": "stdout",
     "output_type": "stream",
     "text": [
      "------------------------------------\n",
      "| rollout/              |          |\n",
      "|    ep_len_mean        | 203      |\n",
      "|    ep_rew_mean        | -316     |\n",
      "| time/                 |          |\n",
      "|    fps                | 39       |\n",
      "|    iterations         | 2200     |\n",
      "|    time_elapsed       | 279      |\n",
      "|    total_timesteps    | 11000    |\n",
      "| train/                |          |\n",
      "|    entropy_loss       | -1.2     |\n",
      "|    explained_variance | 0.0783   |\n",
      "|    learning_rate      | 0.001    |\n",
      "|    n_updates          | 2199     |\n",
      "|    policy_loss        | 14.1     |\n",
      "|    value_loss         | 160      |\n",
      "------------------------------------\n"
     ]
    },
    {
     "name": "stdout",
     "output_type": "stream",
     "text": [
      "------------------------------------\n",
      "| rollout/              |          |\n",
      "|    ep_len_mean        | 206      |\n",
      "|    ep_rew_mean        | -300     |\n",
      "| time/                 |          |\n",
      "|    fps                | 39       |\n",
      "|    iterations         | 2300     |\n",
      "|    time_elapsed       | 289      |\n",
      "|    total_timesteps    | 11500    |\n",
      "| train/                |          |\n",
      "|    entropy_loss       | -0.282   |\n",
      "|    explained_variance | 0.0115   |\n",
      "|    learning_rate      | 0.001    |\n",
      "|    n_updates          | 2299     |\n",
      "|    policy_loss        | 0.305    |\n",
      "|    value_loss         | 32.9     |\n",
      "------------------------------------\n"
     ]
    },
    {
     "name": "stdout",
     "output_type": "stream",
     "text": [
      "------------------------------------\n",
      "| rollout/              |          |\n",
      "|    ep_len_mean        | 208      |\n",
      "|    ep_rew_mean        | -296     |\n",
      "| time/                 |          |\n",
      "|    fps                | 40       |\n",
      "|    iterations         | 2400     |\n",
      "|    time_elapsed       | 299      |\n",
      "|    total_timesteps    | 12000    |\n",
      "| train/                |          |\n",
      "|    entropy_loss       | -0.609   |\n",
      "|    explained_variance | -0.395   |\n",
      "|    learning_rate      | 0.001    |\n",
      "|    n_updates          | 2399     |\n",
      "|    policy_loss        | 4.09     |\n",
      "|    value_loss         | 40.6     |\n",
      "------------------------------------\n"
     ]
    },
    {
     "name": "stdout",
     "output_type": "stream",
     "text": [
      "------------------------------------\n",
      "| rollout/              |          |\n",
      "|    ep_len_mean        | 208      |\n",
      "|    ep_rew_mean        | -290     |\n",
      "| time/                 |          |\n",
      "|    fps                | 40       |\n",
      "|    iterations         | 2500     |\n",
      "|    time_elapsed       | 310      |\n",
      "|    total_timesteps    | 12500    |\n",
      "| train/                |          |\n",
      "|    entropy_loss       | -0.00366 |\n",
      "|    explained_variance | -0.00018 |\n",
      "|    learning_rate      | 0.001    |\n",
      "|    n_updates          | 2499     |\n",
      "|    policy_loss        | 0.0119   |\n",
      "|    value_loss         | 1.42e+03 |\n",
      "------------------------------------\n"
     ]
    },
    {
     "name": "stdout",
     "output_type": "stream",
     "text": [
      "------------------------------------\n",
      "| rollout/              |          |\n",
      "|    ep_len_mean        | 209      |\n",
      "|    ep_rew_mean        | -285     |\n",
      "| time/                 |          |\n",
      "|    fps                | 40       |\n",
      "|    iterations         | 2600     |\n",
      "|    time_elapsed       | 320      |\n",
      "|    total_timesteps    | 13000    |\n",
      "| train/                |          |\n",
      "|    entropy_loss       | -0.416   |\n",
      "|    explained_variance | 0.115    |\n",
      "|    learning_rate      | 0.001    |\n",
      "|    n_updates          | 2599     |\n",
      "|    policy_loss        | 0.0357   |\n",
      "|    value_loss         | 0.484    |\n",
      "------------------------------------\n"
     ]
    },
    {
     "name": "stdout",
     "output_type": "stream",
     "text": [
      "------------------------------------\n",
      "| rollout/              |          |\n",
      "|    ep_len_mean        | 211      |\n",
      "|    ep_rew_mean        | -284     |\n",
      "| time/                 |          |\n",
      "|    fps                | 40       |\n",
      "|    iterations         | 2700     |\n",
      "|    time_elapsed       | 330      |\n",
      "|    total_timesteps    | 13500    |\n",
      "| train/                |          |\n",
      "|    entropy_loss       | -0.672   |\n",
      "|    explained_variance | -0.00798 |\n",
      "|    learning_rate      | 0.001    |\n",
      "|    n_updates          | 2699     |\n",
      "|    policy_loss        | -1.87    |\n",
      "|    value_loss         | 24.4     |\n",
      "------------------------------------\n"
     ]
    },
    {
     "name": "stdout",
     "output_type": "stream",
     "text": [
      "------------------------------------\n",
      "| rollout/              |          |\n",
      "|    ep_len_mean        | 214      |\n",
      "|    ep_rew_mean        | -277     |\n",
      "| time/                 |          |\n",
      "|    fps                | 41       |\n",
      "|    iterations         | 2800     |\n",
      "|    time_elapsed       | 341      |\n",
      "|    total_timesteps    | 14000    |\n",
      "| train/                |          |\n",
      "|    entropy_loss       | -0.673   |\n",
      "|    explained_variance | 0.0159   |\n",
      "|    learning_rate      | 0.001    |\n",
      "|    n_updates          | 2799     |\n",
      "|    policy_loss        | 0.666    |\n",
      "|    value_loss         | 3.78     |\n",
      "------------------------------------\n"
     ]
    },
    {
     "name": "stdout",
     "output_type": "stream",
     "text": [
      "-------------------------------------\n",
      "| rollout/              |           |\n",
      "|    ep_len_mean        | 216       |\n",
      "|    ep_rew_mean        | -273      |\n",
      "| time/                 |           |\n",
      "|    fps                | 41        |\n",
      "|    iterations         | 2900      |\n",
      "|    time_elapsed       | 351       |\n",
      "|    total_timesteps    | 14500     |\n",
      "| train/                |           |\n",
      "|    entropy_loss       | -0.000607 |\n",
      "|    explained_variance | -0.0622   |\n",
      "|    learning_rate      | 0.001     |\n",
      "|    n_updates          | 2899      |\n",
      "|    policy_loss        | 0.000315  |\n",
      "|    value_loss         | 41.5      |\n",
      "-------------------------------------\n"
     ]
    },
    {
     "name": "stdout",
     "output_type": "stream",
     "text": [
      "------------------------------------\n",
      "| rollout/              |          |\n",
      "|    ep_len_mean        | 216      |\n",
      "|    ep_rew_mean        | -266     |\n",
      "| time/                 |          |\n",
      "|    fps                | 41       |\n",
      "|    iterations         | 3000     |\n",
      "|    time_elapsed       | 361      |\n",
      "|    total_timesteps    | 15000    |\n",
      "| train/                |          |\n",
      "|    entropy_loss       | -0.67    |\n",
      "|    explained_variance | -0.00325 |\n",
      "|    learning_rate      | 0.001    |\n",
      "|    n_updates          | 2999     |\n",
      "|    policy_loss        | 2.2      |\n",
      "|    value_loss         | 21       |\n",
      "------------------------------------\n"
     ]
    },
    {
     "name": "stdout",
     "output_type": "stream",
     "text": [
      "------------------------------------\n",
      "| rollout/              |          |\n",
      "|    ep_len_mean        | 217      |\n",
      "|    ep_rew_mean        | -263     |\n",
      "| time/                 |          |\n",
      "|    fps                | 41       |\n",
      "|    iterations         | 3100     |\n",
      "|    time_elapsed       | 372      |\n",
      "|    total_timesteps    | 15500    |\n",
      "| train/                |          |\n",
      "|    entropy_loss       | -0.633   |\n",
      "|    explained_variance | -0.368   |\n",
      "|    learning_rate      | 0.001    |\n",
      "|    n_updates          | 3099     |\n",
      "|    policy_loss        | -0.395   |\n",
      "|    value_loss         | 1.41     |\n",
      "------------------------------------\n"
     ]
    },
    {
     "name": "stdout",
     "output_type": "stream",
     "text": [
      "------------------------------------\n",
      "| rollout/              |          |\n",
      "|    ep_len_mean        | 219      |\n",
      "|    ep_rew_mean        | -263     |\n",
      "| time/                 |          |\n",
      "|    fps                | 41       |\n",
      "|    iterations         | 3200     |\n",
      "|    time_elapsed       | 382      |\n",
      "|    total_timesteps    | 16000    |\n",
      "| train/                |          |\n",
      "|    entropy_loss       | -0.564   |\n",
      "|    explained_variance | 0.952    |\n",
      "|    learning_rate      | 0.001    |\n",
      "|    n_updates          | 3199     |\n",
      "|    policy_loss        | 0.22     |\n",
      "|    value_loss         | 4.09     |\n",
      "------------------------------------\n"
     ]
    },
    {
     "name": "stdout",
     "output_type": "stream",
     "text": [
      "------------------------------------\n",
      "| rollout/              |          |\n",
      "|    ep_len_mean        | 219      |\n",
      "|    ep_rew_mean        | -263     |\n",
      "| time/                 |          |\n",
      "|    fps                | 42       |\n",
      "|    iterations         | 3300     |\n",
      "|    time_elapsed       | 392      |\n",
      "|    total_timesteps    | 16500    |\n",
      "| train/                |          |\n",
      "|    entropy_loss       | -0.478   |\n",
      "|    explained_variance | -0.589   |\n",
      "|    learning_rate      | 0.001    |\n",
      "|    n_updates          | 3299     |\n",
      "|    policy_loss        | 0.364    |\n",
      "|    value_loss         | 0.61     |\n",
      "------------------------------------\n"
     ]
    },
    {
     "name": "stdout",
     "output_type": "stream",
     "text": [
      "------------------------------------\n",
      "| rollout/              |          |\n",
      "|    ep_len_mean        | 230      |\n",
      "|    ep_rew_mean        | -258     |\n",
      "| time/                 |          |\n",
      "|    fps                | 42       |\n",
      "|    iterations         | 3400     |\n",
      "|    time_elapsed       | 402      |\n",
      "|    total_timesteps    | 17000    |\n",
      "| train/                |          |\n",
      "|    entropy_loss       | -0.0125  |\n",
      "|    explained_variance | 0.796    |\n",
      "|    learning_rate      | 0.001    |\n",
      "|    n_updates          | 3399     |\n",
      "|    policy_loss        | -0.0011  |\n",
      "|    value_loss         | 0.938    |\n",
      "------------------------------------\n"
     ]
    },
    {
     "name": "stdout",
     "output_type": "stream",
     "text": [
      "------------------------------------\n",
      "| rollout/              |          |\n",
      "|    ep_len_mean        | 236      |\n",
      "|    ep_rew_mean        | -251     |\n",
      "| time/                 |          |\n",
      "|    fps                | 42       |\n",
      "|    iterations         | 3500     |\n",
      "|    time_elapsed       | 413      |\n",
      "|    total_timesteps    | 17500    |\n",
      "| train/                |          |\n",
      "|    entropy_loss       | -0.648   |\n",
      "|    explained_variance | -1.18    |\n",
      "|    learning_rate      | 0.001    |\n",
      "|    n_updates          | 3499     |\n",
      "|    policy_loss        | 4.88     |\n",
      "|    value_loss         | 69.9     |\n",
      "------------------------------------\n"
     ]
    },
    {
     "name": "stdout",
     "output_type": "stream",
     "text": [
      "------------------------------------\n",
      "| rollout/              |          |\n",
      "|    ep_len_mean        | 236      |\n",
      "|    ep_rew_mean        | -251     |\n",
      "| time/                 |          |\n",
      "|    fps                | 42       |\n",
      "|    iterations         | 3600     |\n",
      "|    time_elapsed       | 423      |\n",
      "|    total_timesteps    | 18000    |\n",
      "| train/                |          |\n",
      "|    entropy_loss       | -0.277   |\n",
      "|    explained_variance | 0.0113   |\n",
      "|    learning_rate      | 0.001    |\n",
      "|    n_updates          | 3599     |\n",
      "|    policy_loss        | 0.00125  |\n",
      "|    value_loss         | 0.000454 |\n",
      "------------------------------------\n"
     ]
    },
    {
     "name": "stdout",
     "output_type": "stream",
     "text": [
      "------------------------------------\n",
      "| rollout/              |          |\n",
      "|    ep_len_mean        | 238      |\n",
      "|    ep_rew_mean        | -244     |\n",
      "| time/                 |          |\n",
      "|    fps                | 42       |\n",
      "|    iterations         | 3700     |\n",
      "|    time_elapsed       | 433      |\n",
      "|    total_timesteps    | 18500    |\n",
      "| train/                |          |\n",
      "|    entropy_loss       | -0.343   |\n",
      "|    explained_variance | 0.0403   |\n",
      "|    learning_rate      | 0.001    |\n",
      "|    n_updates          | 3699     |\n",
      "|    policy_loss        | -7.62    |\n",
      "|    value_loss         | 47.9     |\n",
      "------------------------------------\n"
     ]
    },
    {
     "name": "stdout",
     "output_type": "stream",
     "text": [
      "------------------------------------\n",
      "| rollout/              |          |\n",
      "|    ep_len_mean        | 237      |\n",
      "|    ep_rew_mean        | -241     |\n",
      "| time/                 |          |\n",
      "|    fps                | 42       |\n",
      "|    iterations         | 3800     |\n",
      "|    time_elapsed       | 444      |\n",
      "|    total_timesteps    | 19000    |\n",
      "| train/                |          |\n",
      "|    entropy_loss       | -0.936   |\n",
      "|    explained_variance | -0.26    |\n",
      "|    learning_rate      | 0.001    |\n",
      "|    n_updates          | 3799     |\n",
      "|    policy_loss        | 0.715    |\n",
      "|    value_loss         | 1.83     |\n",
      "------------------------------------\n"
     ]
    },
    {
     "data": {
      "text/html": [
       "<pre style=\"white-space:pre;overflow-x:auto;line-height:normal;font-family:Menlo,'DejaVu Sans Mono',consolas,'Courier New',monospace\">Eval num_timesteps=19397, episode_reward=9.74 +/- 118.90\n",
       "</pre>\n"
      ],
      "text/plain": [
       "Eval num_timesteps=19397, episode_reward=9.74 +/- 118.90\n"
      ]
     },
     "metadata": {},
     "output_type": "display_data"
    },
    {
     "data": {
      "text/html": [
       "<pre style=\"white-space:pre;overflow-x:auto;line-height:normal;font-family:Menlo,'DejaVu Sans Mono',consolas,'Courier New',monospace\">Episode length: 257.00 +/- 76.87\n",
       "</pre>\n"
      ],
      "text/plain": [
       "Episode length: 257.00 +/- 76.87\n"
      ]
     },
     "metadata": {},
     "output_type": "display_data"
    },
    {
     "name": "stdout",
     "output_type": "stream",
     "text": [
      "------------------------------------\n",
      "| eval/                 |          |\n",
      "|    mean_ep_length     | 257      |\n",
      "|    mean_reward        | 9.74     |\n",
      "| time/                 |          |\n",
      "|    total_timesteps    | 19397    |\n",
      "| train/                |          |\n",
      "|    entropy_loss       | -0.599   |\n",
      "|    explained_variance | -0.0284  |\n",
      "|    learning_rate      | 0.001    |\n",
      "|    n_updates          | 3879     |\n",
      "|    policy_loss        | -0.0696  |\n",
      "|    value_loss         | 0.0688   |\n",
      "------------------------------------\n"
     ]
    },
    {
     "data": {
      "text/html": [
       "<pre style=\"white-space:pre;overflow-x:auto;line-height:normal;font-family:Menlo,'DejaVu Sans Mono',consolas,'Courier New',monospace\">New best mean reward!\n",
       "</pre>\n"
      ],
      "text/plain": [
       "New best mean reward!\n"
      ]
     },
     "metadata": {},
     "output_type": "display_data"
    },
    {
     "name": "stdout",
     "output_type": "stream",
     "text": [
      "------------------------------------\n",
      "| rollout/              |          |\n",
      "|    ep_len_mean        | 237      |\n",
      "|    ep_rew_mean        | -241     |\n",
      "| time/                 |          |\n",
      "|    fps                | 40       |\n",
      "|    iterations         | 3900     |\n",
      "|    time_elapsed       | 480      |\n",
      "|    total_timesteps    | 19500    |\n",
      "| train/                |          |\n",
      "|    entropy_loss       | -0.472   |\n",
      "|    explained_variance | -5.38    |\n",
      "|    learning_rate      | 0.001    |\n",
      "|    n_updates          | 3899     |\n",
      "|    policy_loss        | -3.83    |\n",
      "|    value_loss         | 425      |\n",
      "------------------------------------\n"
     ]
    },
    {
     "name": "stdout",
     "output_type": "stream",
     "text": [
      "------------------------------------\n",
      "| rollout/              |          |\n",
      "|    ep_len_mean        | 240      |\n",
      "|    ep_rew_mean        | -235     |\n",
      "| time/                 |          |\n",
      "|    fps                | 40       |\n",
      "|    iterations         | 4000     |\n",
      "|    time_elapsed       | 491      |\n",
      "|    total_timesteps    | 20000    |\n",
      "| train/                |          |\n",
      "|    entropy_loss       | -0.64    |\n",
      "|    explained_variance | -0.0433  |\n",
      "|    learning_rate      | 0.001    |\n",
      "|    n_updates          | 3999     |\n",
      "|    policy_loss        | 3.15     |\n",
      "|    value_loss         | 69.7     |\n",
      "------------------------------------\n"
     ]
    },
    {
     "name": "stdout",
     "output_type": "stream",
     "text": [
      "------------------------------------\n",
      "| rollout/              |          |\n",
      "|    ep_len_mean        | 240      |\n",
      "|    ep_rew_mean        | -235     |\n",
      "| time/                 |          |\n",
      "|    fps                | 40       |\n",
      "|    iterations         | 4100     |\n",
      "|    time_elapsed       | 501      |\n",
      "|    total_timesteps    | 20500    |\n",
      "| train/                |          |\n",
      "|    entropy_loss       | -0.205   |\n",
      "|    explained_variance | 0.0194   |\n",
      "|    learning_rate      | 0.001    |\n",
      "|    n_updates          | 4099     |\n",
      "|    policy_loss        | 0.000106 |\n",
      "|    value_loss         | 0.000481 |\n",
      "------------------------------------\n"
     ]
    },
    {
     "name": "stdout",
     "output_type": "stream",
     "text": [
      "------------------------------------\n",
      "| rollout/              |          |\n",
      "|    ep_len_mean        | 244      |\n",
      "|    ep_rew_mean        | -226     |\n",
      "| time/                 |          |\n",
      "|    fps                | 41       |\n",
      "|    iterations         | 4200     |\n",
      "|    time_elapsed       | 511      |\n",
      "|    total_timesteps    | 21000    |\n",
      "| train/                |          |\n",
      "|    entropy_loss       | -0.813   |\n",
      "|    explained_variance | 0.427    |\n",
      "|    learning_rate      | 0.001    |\n",
      "|    n_updates          | 4199     |\n",
      "|    policy_loss        | -1.79    |\n",
      "|    value_loss         | 7.33     |\n",
      "------------------------------------\n"
     ]
    },
    {
     "name": "stdout",
     "output_type": "stream",
     "text": [
      "------------------------------------\n",
      "| rollout/              |          |\n",
      "|    ep_len_mean        | 244      |\n",
      "|    ep_rew_mean        | -221     |\n",
      "| time/                 |          |\n",
      "|    fps                | 41       |\n",
      "|    iterations         | 4300     |\n",
      "|    time_elapsed       | 522      |\n",
      "|    total_timesteps    | 21500    |\n",
      "| train/                |          |\n",
      "|    entropy_loss       | -0.452   |\n",
      "|    explained_variance | -0.318   |\n",
      "|    learning_rate      | 0.001    |\n",
      "|    n_updates          | 4299     |\n",
      "|    policy_loss        | 5.7      |\n",
      "|    value_loss         | 48.3     |\n",
      "------------------------------------\n"
     ]
    },
    {
     "name": "stdout",
     "output_type": "stream",
     "text": [
      "------------------------------------\n",
      "| rollout/              |          |\n",
      "|    ep_len_mean        | 239      |\n",
      "|    ep_rew_mean        | -214     |\n",
      "| time/                 |          |\n",
      "|    fps                | 41       |\n",
      "|    iterations         | 4400     |\n",
      "|    time_elapsed       | 532      |\n",
      "|    total_timesteps    | 22000    |\n",
      "| train/                |          |\n",
      "|    entropy_loss       | -0.679   |\n",
      "|    explained_variance | 0.0638   |\n",
      "|    learning_rate      | 0.001    |\n",
      "|    n_updates          | 4399     |\n",
      "|    policy_loss        | -4.08    |\n",
      "|    value_loss         | 51.5     |\n",
      "------------------------------------\n"
     ]
    },
    {
     "name": "stdout",
     "output_type": "stream",
     "text": [
      "------------------------------------\n",
      "| rollout/              |          |\n",
      "|    ep_len_mean        | 240      |\n",
      "|    ep_rew_mean        | -211     |\n",
      "| time/                 |          |\n",
      "|    fps                | 41       |\n",
      "|    iterations         | 4500     |\n",
      "|    time_elapsed       | 542      |\n",
      "|    total_timesteps    | 22500    |\n",
      "| train/                |          |\n",
      "|    entropy_loss       | -0.703   |\n",
      "|    explained_variance | 0.947    |\n",
      "|    learning_rate      | 0.001    |\n",
      "|    n_updates          | 4499     |\n",
      "|    policy_loss        | -1.01    |\n",
      "|    value_loss         | 3.92     |\n",
      "------------------------------------\n"
     ]
    },
    {
     "name": "stdout",
     "output_type": "stream",
     "text": [
      "-------------------------------------\n",
      "| rollout/              |           |\n",
      "|    ep_len_mean        | 242       |\n",
      "|    ep_rew_mean        | -212      |\n",
      "| time/                 |           |\n",
      "|    fps                | 41        |\n",
      "|    iterations         | 4600      |\n",
      "|    time_elapsed       | 553       |\n",
      "|    total_timesteps    | 23000     |\n",
      "| train/                |           |\n",
      "|    entropy_loss       | -0.0396   |\n",
      "|    explained_variance | -0.537    |\n",
      "|    learning_rate      | 0.001     |\n",
      "|    n_updates          | 4599      |\n",
      "|    policy_loss        | -0.000534 |\n",
      "|    value_loss         | 0.0075    |\n",
      "-------------------------------------\n"
     ]
    },
    {
     "name": "stdout",
     "output_type": "stream",
     "text": [
      "------------------------------------\n",
      "| rollout/              |          |\n",
      "|    ep_len_mean        | 242      |\n",
      "|    ep_rew_mean        | -206     |\n",
      "| time/                 |          |\n",
      "|    fps                | 41       |\n",
      "|    iterations         | 4700     |\n",
      "|    time_elapsed       | 563      |\n",
      "|    total_timesteps    | 23500    |\n",
      "| train/                |          |\n",
      "|    entropy_loss       | -0.637   |\n",
      "|    explained_variance | -0.0418  |\n",
      "|    learning_rate      | 0.001    |\n",
      "|    n_updates          | 4699     |\n",
      "|    policy_loss        | 4.86     |\n",
      "|    value_loss         | 88.5     |\n",
      "------------------------------------\n"
     ]
    },
    {
     "name": "stdout",
     "output_type": "stream",
     "text": [
      "------------------------------------\n",
      "| rollout/              |          |\n",
      "|    ep_len_mean        | 241      |\n",
      "|    ep_rew_mean        | -201     |\n",
      "| time/                 |          |\n",
      "|    fps                | 41       |\n",
      "|    iterations         | 4800     |\n",
      "|    time_elapsed       | 573      |\n",
      "|    total_timesteps    | 24000    |\n",
      "| train/                |          |\n",
      "|    entropy_loss       | -0.176   |\n",
      "|    explained_variance | 0.645    |\n",
      "|    learning_rate      | 0.001    |\n",
      "|    n_updates          | 4799     |\n",
      "|    policy_loss        | -0.52    |\n",
      "|    value_loss         | 2.74     |\n",
      "------------------------------------\n"
     ]
    },
    {
     "name": "stdout",
     "output_type": "stream",
     "text": [
      "------------------------------------\n",
      "| rollout/              |          |\n",
      "|    ep_len_mean        | 241      |\n",
      "|    ep_rew_mean        | -201     |\n",
      "| time/                 |          |\n",
      "|    fps                | 41       |\n",
      "|    iterations         | 4900     |\n",
      "|    time_elapsed       | 583      |\n",
      "|    total_timesteps    | 24500    |\n",
      "| train/                |          |\n",
      "|    entropy_loss       | -0.382   |\n",
      "|    explained_variance | -0.876   |\n",
      "|    learning_rate      | 0.001    |\n",
      "|    n_updates          | 4899     |\n",
      "|    policy_loss        | 0.0125   |\n",
      "|    value_loss         | 0.0436   |\n",
      "------------------------------------\n"
     ]
    },
    {
     "name": "stdout",
     "output_type": "stream",
     "text": [
      "------------------------------------\n",
      "| rollout/              |          |\n",
      "|    ep_len_mean        | 248      |\n",
      "|    ep_rew_mean        | -191     |\n",
      "| time/                 |          |\n",
      "|    fps                | 42       |\n",
      "|    iterations         | 5000     |\n",
      "|    time_elapsed       | 594      |\n",
      "|    total_timesteps    | 25000    |\n",
      "| train/                |          |\n",
      "|    entropy_loss       | -0.725   |\n",
      "|    explained_variance | -13.9    |\n",
      "|    learning_rate      | 0.001    |\n",
      "|    n_updates          | 4999     |\n",
      "|    policy_loss        | -3.06    |\n",
      "|    value_loss         | 27.8     |\n",
      "------------------------------------\n"
     ]
    },
    {
     "name": "stdout",
     "output_type": "stream",
     "text": [
      "------------------------------------\n",
      "| rollout/              |          |\n",
      "|    ep_len_mean        | 249      |\n",
      "|    ep_rew_mean        | -187     |\n",
      "| time/                 |          |\n",
      "|    fps                | 42       |\n",
      "|    iterations         | 5100     |\n",
      "|    time_elapsed       | 604      |\n",
      "|    total_timesteps    | 25500    |\n",
      "| train/                |          |\n",
      "|    entropy_loss       | -0.392   |\n",
      "|    explained_variance | 0.118    |\n",
      "|    learning_rate      | 0.001    |\n",
      "|    n_updates          | 5099     |\n",
      "|    policy_loss        | -1.81    |\n",
      "|    value_loss         | 42.9     |\n",
      "------------------------------------\n"
     ]
    },
    {
     "name": "stdout",
     "output_type": "stream",
     "text": [
      "------------------------------------\n",
      "| rollout/              |          |\n",
      "|    ep_len_mean        | 253      |\n",
      "|    ep_rew_mean        | -178     |\n",
      "| time/                 |          |\n",
      "|    fps                | 42       |\n",
      "|    iterations         | 5200     |\n",
      "|    time_elapsed       | 614      |\n",
      "|    total_timesteps    | 26000    |\n",
      "| train/                |          |\n",
      "|    entropy_loss       | -0.142   |\n",
      "|    explained_variance | -0.206   |\n",
      "|    learning_rate      | 0.001    |\n",
      "|    n_updates          | 5199     |\n",
      "|    policy_loss        | -0.129   |\n",
      "|    value_loss         | 18.8     |\n",
      "------------------------------------\n"
     ]
    },
    {
     "name": "stdout",
     "output_type": "stream",
     "text": [
      "------------------------------------\n",
      "| rollout/              |          |\n",
      "|    ep_len_mean        | 257      |\n",
      "|    ep_rew_mean        | -166     |\n",
      "| time/                 |          |\n",
      "|    fps                | 42       |\n",
      "|    iterations         | 5300     |\n",
      "|    time_elapsed       | 625      |\n",
      "|    total_timesteps    | 26500    |\n",
      "| train/                |          |\n",
      "|    entropy_loss       | -0.672   |\n",
      "|    explained_variance | -3.22    |\n",
      "|    learning_rate      | 0.001    |\n",
      "|    n_updates          | 5299     |\n",
      "|    policy_loss        | -19.8    |\n",
      "|    value_loss         | 5.96e+03 |\n",
      "------------------------------------\n"
     ]
    },
    {
     "name": "stdout",
     "output_type": "stream",
     "text": [
      "------------------------------------\n",
      "| rollout/              |          |\n",
      "|    ep_len_mean        | 259      |\n",
      "|    ep_rew_mean        | -159     |\n",
      "| time/                 |          |\n",
      "|    fps                | 42       |\n",
      "|    iterations         | 5400     |\n",
      "|    time_elapsed       | 635      |\n",
      "|    total_timesteps    | 27000    |\n",
      "| train/                |          |\n",
      "|    entropy_loss       | -0.647   |\n",
      "|    explained_variance | 0.995    |\n",
      "|    learning_rate      | 0.001    |\n",
      "|    n_updates          | 5399     |\n",
      "|    policy_loss        | 0.00272  |\n",
      "|    value_loss         | 0.0287   |\n",
      "------------------------------------\n"
     ]
    },
    {
     "name": "stdout",
     "output_type": "stream",
     "text": [
      "------------------------------------\n",
      "| rollout/              |          |\n",
      "|    ep_len_mean        | 261      |\n",
      "|    ep_rew_mean        | -151     |\n",
      "| time/                 |          |\n",
      "|    fps                | 42       |\n",
      "|    iterations         | 5500     |\n",
      "|    time_elapsed       | 645      |\n",
      "|    total_timesteps    | 27500    |\n",
      "| train/                |          |\n",
      "|    entropy_loss       | -0.423   |\n",
      "|    explained_variance | 0.705    |\n",
      "|    learning_rate      | 0.001    |\n",
      "|    n_updates          | 5499     |\n",
      "|    policy_loss        | -4.88    |\n",
      "|    value_loss         | 94.9     |\n",
      "------------------------------------\n"
     ]
    },
    {
     "name": "stdout",
     "output_type": "stream",
     "text": [
      "------------------------------------\n",
      "| rollout/              |          |\n",
      "|    ep_len_mean        | 263      |\n",
      "|    ep_rew_mean        | -140     |\n",
      "| time/                 |          |\n",
      "|    fps                | 42       |\n",
      "|    iterations         | 5600     |\n",
      "|    time_elapsed       | 656      |\n",
      "|    total_timesteps    | 28000    |\n",
      "| train/                |          |\n",
      "|    entropy_loss       | -0.656   |\n",
      "|    explained_variance | -0.0265  |\n",
      "|    learning_rate      | 0.001    |\n",
      "|    n_updates          | 5599     |\n",
      "|    policy_loss        | 5.05     |\n",
      "|    value_loss         | 105      |\n",
      "------------------------------------\n"
     ]
    },
    {
     "name": "stdout",
     "output_type": "stream",
     "text": [
      "------------------------------------\n",
      "| rollout/              |          |\n",
      "|    ep_len_mean        | 265      |\n",
      "|    ep_rew_mean        | -124     |\n",
      "| time/                 |          |\n",
      "|    fps                | 42       |\n",
      "|    iterations         | 5700     |\n",
      "|    time_elapsed       | 666      |\n",
      "|    total_timesteps    | 28500    |\n",
      "| train/                |          |\n",
      "|    entropy_loss       | -0.597   |\n",
      "|    explained_variance | -0.656   |\n",
      "|    learning_rate      | 0.001    |\n",
      "|    n_updates          | 5699     |\n",
      "|    policy_loss        | 1.48     |\n",
      "|    value_loss         | 5.67     |\n",
      "------------------------------------\n"
     ]
    },
    {
     "name": "stdout",
     "output_type": "stream",
     "text": [
      "------------------------------------\n",
      "| rollout/              |          |\n",
      "|    ep_len_mean        | 268      |\n",
      "|    ep_rew_mean        | -112     |\n",
      "| time/                 |          |\n",
      "|    fps                | 42       |\n",
      "|    iterations         | 5800     |\n",
      "|    time_elapsed       | 676      |\n",
      "|    total_timesteps    | 29000    |\n",
      "| train/                |          |\n",
      "|    entropy_loss       | -0.535   |\n",
      "|    explained_variance | 0.509    |\n",
      "|    learning_rate      | 0.001    |\n",
      "|    n_updates          | 5799     |\n",
      "|    policy_loss        | -1.66    |\n",
      "|    value_loss         | 10.7     |\n",
      "------------------------------------\n"
     ]
    },
    {
     "data": {
      "text/html": [
       "<pre style=\"white-space:pre;overflow-x:auto;line-height:normal;font-family:Menlo,'DejaVu Sans Mono',consolas,'Courier New',monospace\">Eval num_timesteps=29397, episode_reward=108.59 +/- 140.75\n",
       "</pre>\n"
      ],
      "text/plain": [
       "Eval num_timesteps=29397, episode_reward=108.59 +/- 140.75\n"
      ]
     },
     "metadata": {},
     "output_type": "display_data"
    },
    {
     "data": {
      "text/html": [
       "<pre style=\"white-space:pre;overflow-x:auto;line-height:normal;font-family:Menlo,'DejaVu Sans Mono',consolas,'Courier New',monospace\">Episode length: 354.60 +/- 95.31\n",
       "</pre>\n"
      ],
      "text/plain": [
       "Episode length: 354.60 +/- 95.31\n"
      ]
     },
     "metadata": {},
     "output_type": "display_data"
    },
    {
     "name": "stdout",
     "output_type": "stream",
     "text": [
      "------------------------------------\n",
      "| eval/                 |          |\n",
      "|    mean_ep_length     | 355      |\n",
      "|    mean_reward        | 109      |\n",
      "| time/                 |          |\n",
      "|    total_timesteps    | 29397    |\n",
      "| train/                |          |\n",
      "|    entropy_loss       | -0.621   |\n",
      "|    explained_variance | -6.87    |\n",
      "|    learning_rate      | 0.001    |\n",
      "|    n_updates          | 5879     |\n",
      "|    policy_loss        | -3.93    |\n",
      "|    value_loss         | 128      |\n",
      "------------------------------------\n"
     ]
    },
    {
     "data": {
      "text/html": [
       "<pre style=\"white-space:pre;overflow-x:auto;line-height:normal;font-family:Menlo,'DejaVu Sans Mono',consolas,'Courier New',monospace\">New best mean reward!\n",
       "</pre>\n"
      ],
      "text/plain": [
       "New best mean reward!\n"
      ]
     },
     "metadata": {},
     "output_type": "display_data"
    },
    {
     "name": "stdout",
     "output_type": "stream",
     "text": [
      "------------------------------------\n",
      "| rollout/              |          |\n",
      "|    ep_len_mean        | 269      |\n",
      "|    ep_rew_mean        | -101     |\n",
      "| time/                 |          |\n",
      "|    fps                | 40       |\n",
      "|    iterations         | 5900     |\n",
      "|    time_elapsed       | 723      |\n",
      "|    total_timesteps    | 29500    |\n",
      "| train/                |          |\n",
      "|    entropy_loss       | -0.485   |\n",
      "|    explained_variance | -0.0151  |\n",
      "|    learning_rate      | 0.001    |\n",
      "|    n_updates          | 5899     |\n",
      "|    policy_loss        | 1.35     |\n",
      "|    value_loss         | 23.6     |\n",
      "------------------------------------\n"
     ]
    },
    {
     "name": "stdout",
     "output_type": "stream",
     "text": [
      "------------------------------------\n",
      "| rollout/              |          |\n",
      "|    ep_len_mean        | 272      |\n",
      "|    ep_rew_mean        | -95      |\n",
      "| time/                 |          |\n",
      "|    fps                | 40       |\n",
      "|    iterations         | 6000     |\n",
      "|    time_elapsed       | 733      |\n",
      "|    total_timesteps    | 30000    |\n",
      "| train/                |          |\n",
      "|    entropy_loss       | -0.627   |\n",
      "|    explained_variance | -1.43    |\n",
      "|    learning_rate      | 0.001    |\n",
      "|    n_updates          | 5999     |\n",
      "|    policy_loss        | 2.4      |\n",
      "|    value_loss         | 47.1     |\n",
      "------------------------------------\n"
     ]
    },
    {
     "name": "stdout",
     "output_type": "stream",
     "text": [
      "------------------------------------\n",
      "| rollout/              |          |\n",
      "|    ep_len_mean        | 272      |\n",
      "|    ep_rew_mean        | -87.1    |\n",
      "| time/                 |          |\n",
      "|    fps                | 40       |\n",
      "|    iterations         | 6100     |\n",
      "|    time_elapsed       | 744      |\n",
      "|    total_timesteps    | 30500    |\n",
      "| train/                |          |\n",
      "|    entropy_loss       | -0.192   |\n",
      "|    explained_variance | -13.8    |\n",
      "|    learning_rate      | 0.001    |\n",
      "|    n_updates          | 6099     |\n",
      "|    policy_loss        | -15.9    |\n",
      "|    value_loss         | 392      |\n",
      "------------------------------------\n"
     ]
    },
    {
     "name": "stdout",
     "output_type": "stream",
     "text": [
      "------------------------------------\n",
      "| rollout/              |          |\n",
      "|    ep_len_mean        | 265      |\n",
      "|    ep_rew_mean        | -85.1    |\n",
      "| time/                 |          |\n",
      "|    fps                | 41       |\n",
      "|    iterations         | 6200     |\n",
      "|    time_elapsed       | 754      |\n",
      "|    total_timesteps    | 31000    |\n",
      "| train/                |          |\n",
      "|    entropy_loss       | -0.561   |\n",
      "|    explained_variance | 0.778    |\n",
      "|    learning_rate      | 0.001    |\n",
      "|    n_updates          | 6199     |\n",
      "|    policy_loss        | 1.09     |\n",
      "|    value_loss         | 10.7     |\n",
      "------------------------------------\n"
     ]
    },
    {
     "name": "stdout",
     "output_type": "stream",
     "text": [
      "------------------------------------\n",
      "| rollout/              |          |\n",
      "|    ep_len_mean        | 264      |\n",
      "|    ep_rew_mean        | -77.9    |\n",
      "| time/                 |          |\n",
      "|    fps                | 41       |\n",
      "|    iterations         | 6300     |\n",
      "|    time_elapsed       | 765      |\n",
      "|    total_timesteps    | 31500    |\n",
      "| train/                |          |\n",
      "|    entropy_loss       | -0.622   |\n",
      "|    explained_variance | -0.107   |\n",
      "|    learning_rate      | 0.001    |\n",
      "|    n_updates          | 6299     |\n",
      "|    policy_loss        | 2.51     |\n",
      "|    value_loss         | 39.6     |\n",
      "------------------------------------\n"
     ]
    },
    {
     "name": "stdout",
     "output_type": "stream",
     "text": [
      "------------------------------------\n",
      "| rollout/              |          |\n",
      "|    ep_len_mean        | 255      |\n",
      "|    ep_rew_mean        | -71.3    |\n",
      "| time/                 |          |\n",
      "|    fps                | 41       |\n",
      "|    iterations         | 6400     |\n",
      "|    time_elapsed       | 775      |\n",
      "|    total_timesteps    | 32000    |\n",
      "| train/                |          |\n",
      "|    entropy_loss       | -0.227   |\n",
      "|    explained_variance | 0.532    |\n",
      "|    learning_rate      | 0.001    |\n",
      "|    n_updates          | 6399     |\n",
      "|    policy_loss        | 0.0549   |\n",
      "|    value_loss         | 1.25     |\n",
      "------------------------------------\n"
     ]
    },
    {
     "name": "stdout",
     "output_type": "stream",
     "text": [
      "------------------------------------\n",
      "| rollout/              |          |\n",
      "|    ep_len_mean        | 251      |\n",
      "|    ep_rew_mean        | -65.7    |\n",
      "| time/                 |          |\n",
      "|    fps                | 41       |\n",
      "|    iterations         | 6500     |\n",
      "|    time_elapsed       | 785      |\n",
      "|    total_timesteps    | 32500    |\n",
      "| train/                |          |\n",
      "|    entropy_loss       | -0.637   |\n",
      "|    explained_variance | 0.337    |\n",
      "|    learning_rate      | 0.001    |\n",
      "|    n_updates          | 6499     |\n",
      "|    policy_loss        | 1.01     |\n",
      "|    value_loss         | 4.23     |\n",
      "------------------------------------\n"
     ]
    },
    {
     "name": "stdout",
     "output_type": "stream",
     "text": [
      "------------------------------------\n",
      "| rollout/              |          |\n",
      "|    ep_len_mean        | 252      |\n",
      "|    ep_rew_mean        | -59.5    |\n",
      "| time/                 |          |\n",
      "|    fps                | 41       |\n",
      "|    iterations         | 6600     |\n",
      "|    time_elapsed       | 796      |\n",
      "|    total_timesteps    | 33000    |\n",
      "| train/                |          |\n",
      "|    entropy_loss       | -0.584   |\n",
      "|    explained_variance | 0.588    |\n",
      "|    learning_rate      | 0.001    |\n",
      "|    n_updates          | 6599     |\n",
      "|    policy_loss        | 0.958    |\n",
      "|    value_loss         | 4.37     |\n",
      "------------------------------------\n"
     ]
    },
    {
     "name": "stdout",
     "output_type": "stream",
     "text": [
      "------------------------------------\n",
      "| rollout/              |          |\n",
      "|    ep_len_mean        | 249      |\n",
      "|    ep_rew_mean        | -57.8    |\n",
      "| time/                 |          |\n",
      "|    fps                | 41       |\n",
      "|    iterations         | 6700     |\n",
      "|    time_elapsed       | 806      |\n",
      "|    total_timesteps    | 33500    |\n",
      "| train/                |          |\n",
      "|    entropy_loss       | -0.705   |\n",
      "|    explained_variance | 0.583    |\n",
      "|    learning_rate      | 0.001    |\n",
      "|    n_updates          | 6699     |\n",
      "|    policy_loss        | -1.76    |\n",
      "|    value_loss         | 13.1     |\n",
      "------------------------------------\n"
     ]
    },
    {
     "name": "stdout",
     "output_type": "stream",
     "text": [
      "------------------------------------\n",
      "| rollout/              |          |\n",
      "|    ep_len_mean        | 251      |\n",
      "|    ep_rew_mean        | -52.2    |\n",
      "| time/                 |          |\n",
      "|    fps                | 41       |\n",
      "|    iterations         | 6800     |\n",
      "|    time_elapsed       | 817      |\n",
      "|    total_timesteps    | 34000    |\n",
      "| train/                |          |\n",
      "|    entropy_loss       | -0.078   |\n",
      "|    explained_variance | 0.889    |\n",
      "|    learning_rate      | 0.001    |\n",
      "|    n_updates          | 6799     |\n",
      "|    policy_loss        | 0.0331   |\n",
      "|    value_loss         | 4.56     |\n",
      "------------------------------------\n"
     ]
    },
    {
     "name": "stdout",
     "output_type": "stream",
     "text": [
      "------------------------------------\n",
      "| rollout/              |          |\n",
      "|    ep_len_mean        | 248      |\n",
      "|    ep_rew_mean        | -52.2    |\n",
      "| time/                 |          |\n",
      "|    fps                | 41       |\n",
      "|    iterations         | 6900     |\n",
      "|    time_elapsed       | 827      |\n",
      "|    total_timesteps    | 34500    |\n",
      "| train/                |          |\n",
      "|    entropy_loss       | -0.338   |\n",
      "|    explained_variance | -0.293   |\n",
      "|    learning_rate      | 0.001    |\n",
      "|    n_updates          | 6899     |\n",
      "|    policy_loss        | -3.28    |\n",
      "|    value_loss         | 51.6     |\n",
      "------------------------------------\n"
     ]
    },
    {
     "name": "stdout",
     "output_type": "stream",
     "text": [
      "------------------------------------\n",
      "| rollout/              |          |\n",
      "|    ep_len_mean        | 246      |\n",
      "|    ep_rew_mean        | -46.5    |\n",
      "| time/                 |          |\n",
      "|    fps                | 41       |\n",
      "|    iterations         | 7000     |\n",
      "|    time_elapsed       | 837      |\n",
      "|    total_timesteps    | 35000    |\n",
      "| train/                |          |\n",
      "|    entropy_loss       | -0.453   |\n",
      "|    explained_variance | -0.0203  |\n",
      "|    learning_rate      | 0.001    |\n",
      "|    n_updates          | 6999     |\n",
      "|    policy_loss        | -0.316   |\n",
      "|    value_loss         | 6.11     |\n",
      "------------------------------------\n"
     ]
    },
    {
     "name": "stdout",
     "output_type": "stream",
     "text": [
      "------------------------------------\n",
      "| rollout/              |          |\n",
      "|    ep_len_mean        | 246      |\n",
      "|    ep_rew_mean        | -45.9    |\n",
      "| time/                 |          |\n",
      "|    fps                | 41       |\n",
      "|    iterations         | 7100     |\n",
      "|    time_elapsed       | 848      |\n",
      "|    total_timesteps    | 35500    |\n",
      "| train/                |          |\n",
      "|    entropy_loss       | -0.614   |\n",
      "|    explained_variance | 0.642    |\n",
      "|    learning_rate      | 0.001    |\n",
      "|    n_updates          | 7099     |\n",
      "|    policy_loss        | -0.369   |\n",
      "|    value_loss         | 1.41     |\n",
      "------------------------------------\n"
     ]
    },
    {
     "name": "stdout",
     "output_type": "stream",
     "text": [
      "------------------------------------\n",
      "| rollout/              |          |\n",
      "|    ep_len_mean        | 248      |\n",
      "|    ep_rew_mean        | -48.2    |\n",
      "| time/                 |          |\n",
      "|    fps                | 41       |\n",
      "|    iterations         | 7200     |\n",
      "|    time_elapsed       | 858      |\n",
      "|    total_timesteps    | 36000    |\n",
      "| train/                |          |\n",
      "|    entropy_loss       | -0.591   |\n",
      "|    explained_variance | 0.962    |\n",
      "|    learning_rate      | 0.001    |\n",
      "|    n_updates          | 7199     |\n",
      "|    policy_loss        | -0.0982  |\n",
      "|    value_loss         | 0.139    |\n",
      "------------------------------------\n"
     ]
    },
    {
     "name": "stdout",
     "output_type": "stream",
     "text": [
      "------------------------------------\n",
      "| rollout/              |          |\n",
      "|    ep_len_mean        | 247      |\n",
      "|    ep_rew_mean        | -45.5    |\n",
      "| time/                 |          |\n",
      "|    fps                | 42       |\n",
      "|    iterations         | 7300     |\n",
      "|    time_elapsed       | 868      |\n",
      "|    total_timesteps    | 36500    |\n",
      "| train/                |          |\n",
      "|    entropy_loss       | -1       |\n",
      "|    explained_variance | 0.591    |\n",
      "|    learning_rate      | 0.001    |\n",
      "|    n_updates          | 7299     |\n",
      "|    policy_loss        | 1.59     |\n",
      "|    value_loss         | 5.35     |\n",
      "------------------------------------\n"
     ]
    },
    {
     "name": "stdout",
     "output_type": "stream",
     "text": [
      "------------------------------------\n",
      "| rollout/              |          |\n",
      "|    ep_len_mean        | 249      |\n",
      "|    ep_rew_mean        | -43.5    |\n",
      "| time/                 |          |\n",
      "|    fps                | 42       |\n",
      "|    iterations         | 7400     |\n",
      "|    time_elapsed       | 879      |\n",
      "|    total_timesteps    | 37000    |\n",
      "| train/                |          |\n",
      "|    entropy_loss       | -0.815   |\n",
      "|    explained_variance | 0.878    |\n",
      "|    learning_rate      | 0.001    |\n",
      "|    n_updates          | 7399     |\n",
      "|    policy_loss        | -2.27    |\n",
      "|    value_loss         | 19.1     |\n",
      "------------------------------------\n"
     ]
    },
    {
     "name": "stdout",
     "output_type": "stream",
     "text": [
      "------------------------------------\n",
      "| rollout/              |          |\n",
      "|    ep_len_mean        | 248      |\n",
      "|    ep_rew_mean        | -42      |\n",
      "| time/                 |          |\n",
      "|    fps                | 42       |\n",
      "|    iterations         | 7500     |\n",
      "|    time_elapsed       | 889      |\n",
      "|    total_timesteps    | 37500    |\n",
      "| train/                |          |\n",
      "|    entropy_loss       | -0.616   |\n",
      "|    explained_variance | 0.741    |\n",
      "|    learning_rate      | 0.001    |\n",
      "|    n_updates          | 7499     |\n",
      "|    policy_loss        | 2.13     |\n",
      "|    value_loss         | 10.5     |\n",
      "------------------------------------\n"
     ]
    },
    {
     "name": "stdout",
     "output_type": "stream",
     "text": [
      "------------------------------------\n",
      "| rollout/              |          |\n",
      "|    ep_len_mean        | 248      |\n",
      "|    ep_rew_mean        | -36.3    |\n",
      "| time/                 |          |\n",
      "|    fps                | 42       |\n",
      "|    iterations         | 7600     |\n",
      "|    time_elapsed       | 899      |\n",
      "|    total_timesteps    | 38000    |\n",
      "| train/                |          |\n",
      "|    entropy_loss       | -0.0987  |\n",
      "|    explained_variance | 0.585    |\n",
      "|    learning_rate      | 0.001    |\n",
      "|    n_updates          | 7599     |\n",
      "|    policy_loss        | 0.0121   |\n",
      "|    value_loss         | 0.399    |\n",
      "------------------------------------\n"
     ]
    },
    {
     "name": "stdout",
     "output_type": "stream",
     "text": [
      "------------------------------------\n",
      "| rollout/              |          |\n",
      "|    ep_len_mean        | 246      |\n",
      "|    ep_rew_mean        | -29.6    |\n",
      "| time/                 |          |\n",
      "|    fps                | 42       |\n",
      "|    iterations         | 7700     |\n",
      "|    time_elapsed       | 910      |\n",
      "|    total_timesteps    | 38500    |\n",
      "| train/                |          |\n",
      "|    entropy_loss       | -0.0689  |\n",
      "|    explained_variance | 0.483    |\n",
      "|    learning_rate      | 0.001    |\n",
      "|    n_updates          | 7699     |\n",
      "|    policy_loss        | 0.0525   |\n",
      "|    value_loss         | 26.5     |\n",
      "------------------------------------\n"
     ]
    },
    {
     "name": "stdout",
     "output_type": "stream",
     "text": [
      "------------------------------------\n",
      "| rollout/              |          |\n",
      "|    ep_len_mean        | 244      |\n",
      "|    ep_rew_mean        | -29.7    |\n",
      "| time/                 |          |\n",
      "|    fps                | 42       |\n",
      "|    iterations         | 7800     |\n",
      "|    time_elapsed       | 920      |\n",
      "|    total_timesteps    | 39000    |\n",
      "| train/                |          |\n",
      "|    entropy_loss       | -0.0701  |\n",
      "|    explained_variance | -0.0167  |\n",
      "|    learning_rate      | 0.001    |\n",
      "|    n_updates          | 7799     |\n",
      "|    policy_loss        | 0.0152   |\n",
      "|    value_loss         | 1.78     |\n",
      "------------------------------------\n"
     ]
    },
    {
     "data": {
      "text/html": [
       "<pre style=\"white-space:pre;overflow-x:auto;line-height:normal;font-family:Menlo,'DejaVu Sans Mono',consolas,'Courier New',monospace\">Eval num_timesteps=39397, episode_reward=107.11 +/- 178.34\n",
       "</pre>\n"
      ],
      "text/plain": [
       "Eval num_timesteps=39397, episode_reward=107.11 +/- 178.34\n"
      ]
     },
     "metadata": {},
     "output_type": "display_data"
    },
    {
     "data": {
      "text/html": [
       "<pre style=\"white-space:pre;overflow-x:auto;line-height:normal;font-family:Menlo,'DejaVu Sans Mono',consolas,'Courier New',monospace\">Episode length: 275.00 +/- 117.86\n",
       "</pre>\n"
      ],
      "text/plain": [
       "Episode length: 275.00 +/- 117.86\n"
      ]
     },
     "metadata": {},
     "output_type": "display_data"
    },
    {
     "name": "stdout",
     "output_type": "stream",
     "text": [
      "------------------------------------\n",
      "| eval/                 |          |\n",
      "|    mean_ep_length     | 275      |\n",
      "|    mean_reward        | 107      |\n",
      "| time/                 |          |\n",
      "|    total_timesteps    | 39397    |\n",
      "| train/                |          |\n",
      "|    entropy_loss       | -0.937   |\n",
      "|    explained_variance | 0.485    |\n",
      "|    learning_rate      | 0.001    |\n",
      "|    n_updates          | 7879     |\n",
      "|    policy_loss        | -1.49    |\n",
      "|    value_loss         | 8.97     |\n",
      "------------------------------------\n"
     ]
    },
    {
     "name": "stdout",
     "output_type": "stream",
     "text": [
      "------------------------------------\n",
      "| rollout/              |          |\n",
      "|    ep_len_mean        | 245      |\n",
      "|    ep_rew_mean        | -26.8    |\n",
      "| time/                 |          |\n",
      "|    fps                | 41       |\n",
      "|    iterations         | 7900     |\n",
      "|    time_elapsed       | 959      |\n",
      "|    total_timesteps    | 39500    |\n",
      "| train/                |          |\n",
      "|    entropy_loss       | -0.549   |\n",
      "|    explained_variance | 0.827    |\n",
      "|    learning_rate      | 0.001    |\n",
      "|    n_updates          | 7899     |\n",
      "|    policy_loss        | -0.158   |\n",
      "|    value_loss         | 0.395    |\n",
      "------------------------------------\n"
     ]
    },
    {
     "name": "stdout",
     "output_type": "stream",
     "text": [
      "------------------------------------\n",
      "| rollout/              |          |\n",
      "|    ep_len_mean        | 248      |\n",
      "|    ep_rew_mean        | -20.9    |\n",
      "| time/                 |          |\n",
      "|    fps                | 41       |\n",
      "|    iterations         | 8000     |\n",
      "|    time_elapsed       | 969      |\n",
      "|    total_timesteps    | 40000    |\n",
      "| train/                |          |\n",
      "|    entropy_loss       | -0.7     |\n",
      "|    explained_variance | -1.12    |\n",
      "|    learning_rate      | 0.001    |\n",
      "|    n_updates          | 7999     |\n",
      "|    policy_loss        | 2.2      |\n",
      "|    value_loss         | 6.01     |\n",
      "------------------------------------\n"
     ]
    },
    {
     "name": "stdout",
     "output_type": "stream",
     "text": [
      "------------------------------------\n",
      "| rollout/              |          |\n",
      "|    ep_len_mean        | 237      |\n",
      "|    ep_rew_mean        | -17      |\n",
      "| time/                 |          |\n",
      "|    fps                | 41       |\n",
      "|    iterations         | 8100     |\n",
      "|    time_elapsed       | 979      |\n",
      "|    total_timesteps    | 40500    |\n",
      "| train/                |          |\n",
      "|    entropy_loss       | -0.598   |\n",
      "|    explained_variance | 0.57     |\n",
      "|    learning_rate      | 0.001    |\n",
      "|    n_updates          | 8099     |\n",
      "|    policy_loss        | -41.7    |\n",
      "|    value_loss         | 8.57e+03 |\n",
      "------------------------------------\n"
     ]
    },
    {
     "name": "stdout",
     "output_type": "stream",
     "text": [
      "------------------------------------\n",
      "| rollout/              |          |\n",
      "|    ep_len_mean        | 230      |\n",
      "|    ep_rew_mean        | -20.5    |\n",
      "| time/                 |          |\n",
      "|    fps                | 41       |\n",
      "|    iterations         | 8200     |\n",
      "|    time_elapsed       | 990      |\n",
      "|    total_timesteps    | 41000    |\n",
      "| train/                |          |\n",
      "|    entropy_loss       | -0.825   |\n",
      "|    explained_variance | -0.282   |\n",
      "|    learning_rate      | 0.001    |\n",
      "|    n_updates          | 8199     |\n",
      "|    policy_loss        | -1.3     |\n",
      "|    value_loss         | 39       |\n",
      "------------------------------------\n"
     ]
    },
    {
     "name": "stdout",
     "output_type": "stream",
     "text": [
      "------------------------------------\n",
      "| rollout/              |          |\n",
      "|    ep_len_mean        | 226      |\n",
      "|    ep_rew_mean        | -15.5    |\n",
      "| time/                 |          |\n",
      "|    fps                | 41       |\n",
      "|    iterations         | 8300     |\n",
      "|    time_elapsed       | 1000     |\n",
      "|    total_timesteps    | 41500    |\n",
      "| train/                |          |\n",
      "|    entropy_loss       | -0.648   |\n",
      "|    explained_variance | 0.909    |\n",
      "|    learning_rate      | 0.001    |\n",
      "|    n_updates          | 8299     |\n",
      "|    policy_loss        | -2.38    |\n",
      "|    value_loss         | 18.7     |\n",
      "------------------------------------\n"
     ]
    },
    {
     "name": "stdout",
     "output_type": "stream",
     "text": [
      "------------------------------------\n",
      "| rollout/              |          |\n",
      "|    ep_len_mean        | 220      |\n",
      "|    ep_rew_mean        | -12.1    |\n",
      "| time/                 |          |\n",
      "|    fps                | 41       |\n",
      "|    iterations         | 8400     |\n",
      "|    time_elapsed       | 1010     |\n",
      "|    total_timesteps    | 42000    |\n",
      "| train/                |          |\n",
      "|    entropy_loss       | -0.551   |\n",
      "|    explained_variance | -0.13    |\n",
      "|    learning_rate      | 0.001    |\n",
      "|    n_updates          | 8399     |\n",
      "|    policy_loss        | 0.466    |\n",
      "|    value_loss         | 2.77     |\n",
      "------------------------------------\n"
     ]
    },
    {
     "name": "stdout",
     "output_type": "stream",
     "text": [
      "------------------------------------\n",
      "| rollout/              |          |\n",
      "|    ep_len_mean        | 213      |\n",
      "|    ep_rew_mean        | -12.1    |\n",
      "| time/                 |          |\n",
      "|    fps                | 41       |\n",
      "|    iterations         | 8500     |\n",
      "|    time_elapsed       | 1021     |\n",
      "|    total_timesteps    | 42500    |\n",
      "| train/                |          |\n",
      "|    entropy_loss       | -0.256   |\n",
      "|    explained_variance | 0.802    |\n",
      "|    learning_rate      | 0.001    |\n",
      "|    n_updates          | 8499     |\n",
      "|    policy_loss        | -0.0472  |\n",
      "|    value_loss         | 1.03e+03 |\n",
      "------------------------------------\n"
     ]
    },
    {
     "name": "stdout",
     "output_type": "stream",
     "text": [
      "------------------------------------\n",
      "| rollout/              |          |\n",
      "|    ep_len_mean        | 213      |\n",
      "|    ep_rew_mean        | -12.3    |\n",
      "| time/                 |          |\n",
      "|    fps                | 41       |\n",
      "|    iterations         | 8600     |\n",
      "|    time_elapsed       | 1031     |\n",
      "|    total_timesteps    | 43000    |\n",
      "| train/                |          |\n",
      "|    entropy_loss       | -0.633   |\n",
      "|    explained_variance | -0.357   |\n",
      "|    learning_rate      | 0.001    |\n",
      "|    n_updates          | 8599     |\n",
      "|    policy_loss        | -2.48    |\n",
      "|    value_loss         | 9.11     |\n",
      "------------------------------------\n"
     ]
    },
    {
     "name": "stdout",
     "output_type": "stream",
     "text": [
      "------------------------------------\n",
      "| rollout/              |          |\n",
      "|    ep_len_mean        | 208      |\n",
      "|    ep_rew_mean        | -9.13    |\n",
      "| time/                 |          |\n",
      "|    fps                | 41       |\n",
      "|    iterations         | 8700     |\n",
      "|    time_elapsed       | 1042     |\n",
      "|    total_timesteps    | 43500    |\n",
      "| train/                |          |\n",
      "|    entropy_loss       | -1.02    |\n",
      "|    explained_variance | 0.458    |\n",
      "|    learning_rate      | 0.001    |\n",
      "|    n_updates          | 8699     |\n",
      "|    policy_loss        | 2.34     |\n",
      "|    value_loss         | 4.21     |\n",
      "------------------------------------\n"
     ]
    },
    {
     "name": "stdout",
     "output_type": "stream",
     "text": [
      "------------------------------------\n",
      "| rollout/              |          |\n",
      "|    ep_len_mean        | 201      |\n",
      "|    ep_rew_mean        | -11.4    |\n",
      "| time/                 |          |\n",
      "|    fps                | 41       |\n",
      "|    iterations         | 8800     |\n",
      "|    time_elapsed       | 1052     |\n",
      "|    total_timesteps    | 44000    |\n",
      "| train/                |          |\n",
      "|    entropy_loss       | -0.185   |\n",
      "|    explained_variance | -0.0781  |\n",
      "|    learning_rate      | 0.001    |\n",
      "|    n_updates          | 8799     |\n",
      "|    policy_loss        | -0.972   |\n",
      "|    value_loss         | 20.7     |\n",
      "------------------------------------\n"
     ]
    },
    {
     "name": "stdout",
     "output_type": "stream",
     "text": [
      "------------------------------------\n",
      "| rollout/              |          |\n",
      "|    ep_len_mean        | 192      |\n",
      "|    ep_rew_mean        | -15.8    |\n",
      "| time/                 |          |\n",
      "|    fps                | 41       |\n",
      "|    iterations         | 8900     |\n",
      "|    time_elapsed       | 1062     |\n",
      "|    total_timesteps    | 44500    |\n",
      "| train/                |          |\n",
      "|    entropy_loss       | -1.03    |\n",
      "|    explained_variance | 0.754    |\n",
      "|    learning_rate      | 0.001    |\n",
      "|    n_updates          | 8899     |\n",
      "|    policy_loss        | -4.28    |\n",
      "|    value_loss         | 12.7     |\n",
      "------------------------------------\n"
     ]
    },
    {
     "name": "stdout",
     "output_type": "stream",
     "text": [
      "------------------------------------\n",
      "| rollout/              |          |\n",
      "|    ep_len_mean        | 186      |\n",
      "|    ep_rew_mean        | -19.4    |\n",
      "| time/                 |          |\n",
      "|    fps                | 41       |\n",
      "|    iterations         | 9000     |\n",
      "|    time_elapsed       | 1073     |\n",
      "|    total_timesteps    | 45000    |\n",
      "| train/                |          |\n",
      "|    entropy_loss       | -0.831   |\n",
      "|    explained_variance | 0.645    |\n",
      "|    learning_rate      | 0.001    |\n",
      "|    n_updates          | 8999     |\n",
      "|    policy_loss        | 0.699    |\n",
      "|    value_loss         | 0.763    |\n",
      "------------------------------------\n"
     ]
    },
    {
     "name": "stdout",
     "output_type": "stream",
     "text": [
      "------------------------------------\n",
      "| rollout/              |          |\n",
      "|    ep_len_mean        | 177      |\n",
      "|    ep_rew_mean        | -24.8    |\n",
      "| time/                 |          |\n",
      "|    fps                | 41       |\n",
      "|    iterations         | 9100     |\n",
      "|    time_elapsed       | 1083     |\n",
      "|    total_timesteps    | 45500    |\n",
      "| train/                |          |\n",
      "|    entropy_loss       | -1.24    |\n",
      "|    explained_variance | 0.455    |\n",
      "|    learning_rate      | 0.001    |\n",
      "|    n_updates          | 9099     |\n",
      "|    policy_loss        | 1.04     |\n",
      "|    value_loss         | 1.67     |\n",
      "------------------------------------\n"
     ]
    },
    {
     "name": "stdout",
     "output_type": "stream",
     "text": [
      "------------------------------------\n",
      "| rollout/              |          |\n",
      "|    ep_len_mean        | 175      |\n",
      "|    ep_rew_mean        | -20.9    |\n",
      "| time/                 |          |\n",
      "|    fps                | 42       |\n",
      "|    iterations         | 9200     |\n",
      "|    time_elapsed       | 1094     |\n",
      "|    total_timesteps    | 46000    |\n",
      "| train/                |          |\n",
      "|    entropy_loss       | -0.824   |\n",
      "|    explained_variance | 0.896    |\n",
      "|    learning_rate      | 0.001    |\n",
      "|    n_updates          | 9199     |\n",
      "|    policy_loss        | 0.693    |\n",
      "|    value_loss         | 3.88     |\n",
      "------------------------------------\n"
     ]
    },
    {
     "name": "stdout",
     "output_type": "stream",
     "text": [
      "------------------------------------\n",
      "| rollout/              |          |\n",
      "|    ep_len_mean        | 172      |\n",
      "|    ep_rew_mean        | -17.2    |\n",
      "| time/                 |          |\n",
      "|    fps                | 42       |\n",
      "|    iterations         | 9300     |\n",
      "|    time_elapsed       | 1104     |\n",
      "|    total_timesteps    | 46500    |\n",
      "| train/                |          |\n",
      "|    entropy_loss       | -0.561   |\n",
      "|    explained_variance | 0.474    |\n",
      "|    learning_rate      | 0.001    |\n",
      "|    n_updates          | 9299     |\n",
      "|    policy_loss        | -0.382   |\n",
      "|    value_loss         | 1.85e+03 |\n",
      "------------------------------------\n"
     ]
    },
    {
     "name": "stdout",
     "output_type": "stream",
     "text": [
      "------------------------------------\n",
      "| rollout/              |          |\n",
      "|    ep_len_mean        | 168      |\n",
      "|    ep_rew_mean        | -12.3    |\n",
      "| time/                 |          |\n",
      "|    fps                | 42       |\n",
      "|    iterations         | 9400     |\n",
      "|    time_elapsed       | 1115     |\n",
      "|    total_timesteps    | 47000    |\n",
      "| train/                |          |\n",
      "|    entropy_loss       | -1.03    |\n",
      "|    explained_variance | 0.446    |\n",
      "|    learning_rate      | 0.001    |\n",
      "|    n_updates          | 9399     |\n",
      "|    policy_loss        | 3.16     |\n",
      "|    value_loss         | 7.81     |\n",
      "------------------------------------\n"
     ]
    },
    {
     "name": "stdout",
     "output_type": "stream",
     "text": [
      "------------------------------------\n",
      "| rollout/              |          |\n",
      "|    ep_len_mean        | 167      |\n",
      "|    ep_rew_mean        | -10.1    |\n",
      "| time/                 |          |\n",
      "|    fps                | 42       |\n",
      "|    iterations         | 9500     |\n",
      "|    time_elapsed       | 1125     |\n",
      "|    total_timesteps    | 47500    |\n",
      "| train/                |          |\n",
      "|    entropy_loss       | -0.767   |\n",
      "|    explained_variance | 0.65     |\n",
      "|    learning_rate      | 0.001    |\n",
      "|    n_updates          | 9499     |\n",
      "|    policy_loss        | 1.46     |\n",
      "|    value_loss         | 1.53     |\n",
      "------------------------------------\n"
     ]
    },
    {
     "name": "stdout",
     "output_type": "stream",
     "text": [
      "------------------------------------\n",
      "| rollout/              |          |\n",
      "|    ep_len_mean        | 168      |\n",
      "|    ep_rew_mean        | -6.48    |\n",
      "| time/                 |          |\n",
      "|    fps                | 42       |\n",
      "|    iterations         | 9600     |\n",
      "|    time_elapsed       | 1135     |\n",
      "|    total_timesteps    | 48000    |\n",
      "| train/                |          |\n",
      "|    entropy_loss       | -0.962   |\n",
      "|    explained_variance | 0.509    |\n",
      "|    learning_rate      | 0.001    |\n",
      "|    n_updates          | 9599     |\n",
      "|    policy_loss        | -55.9    |\n",
      "|    value_loss         | 6.62e+03 |\n",
      "------------------------------------\n"
     ]
    },
    {
     "name": "stdout",
     "output_type": "stream",
     "text": [
      "------------------------------------\n",
      "| rollout/              |          |\n",
      "|    ep_len_mean        | 170      |\n",
      "|    ep_rew_mean        | -3.61    |\n",
      "| time/                 |          |\n",
      "|    fps                | 42       |\n",
      "|    iterations         | 9700     |\n",
      "|    time_elapsed       | 1146     |\n",
      "|    total_timesteps    | 48500    |\n",
      "| train/                |          |\n",
      "|    entropy_loss       | -0.678   |\n",
      "|    explained_variance | -1.39    |\n",
      "|    learning_rate      | 0.001    |\n",
      "|    n_updates          | 9699     |\n",
      "|    policy_loss        | -1.51    |\n",
      "|    value_loss         | 17.4     |\n",
      "------------------------------------\n"
     ]
    },
    {
     "name": "stdout",
     "output_type": "stream",
     "text": [
      "------------------------------------\n",
      "| rollout/              |          |\n",
      "|    ep_len_mean        | 174      |\n",
      "|    ep_rew_mean        | 0.0494   |\n",
      "| time/                 |          |\n",
      "|    fps                | 42       |\n",
      "|    iterations         | 9800     |\n",
      "|    time_elapsed       | 1156     |\n",
      "|    total_timesteps    | 49000    |\n",
      "| train/                |          |\n",
      "|    entropy_loss       | -0.727   |\n",
      "|    explained_variance | 0.323    |\n",
      "|    learning_rate      | 0.001    |\n",
      "|    n_updates          | 9799     |\n",
      "|    policy_loss        | 0.345    |\n",
      "|    value_loss         | 6.45     |\n",
      "------------------------------------\n"
     ]
    },
    {
     "data": {
      "text/html": [
       "<pre style=\"white-space:pre;overflow-x:auto;line-height:normal;font-family:Menlo,'DejaVu Sans Mono',consolas,'Courier New',monospace\">Eval num_timesteps=49397, episode_reward=-1250.63 +/- 103.03\n",
       "</pre>\n"
      ],
      "text/plain": [
       "Eval num_timesteps=49397, episode_reward=-1250.63 +/- 103.03\n"
      ]
     },
     "metadata": {},
     "output_type": "display_data"
    },
    {
     "data": {
      "text/html": [
       "<pre style=\"white-space:pre;overflow-x:auto;line-height:normal;font-family:Menlo,'DejaVu Sans Mono',consolas,'Courier New',monospace\">Episode length: 492.00 +/- 128.74\n",
       "</pre>\n"
      ],
      "text/plain": [
       "Episode length: 492.00 +/- 128.74\n"
      ]
     },
     "metadata": {},
     "output_type": "display_data"
    },
    {
     "name": "stdout",
     "output_type": "stream",
     "text": [
      "-------------------------------------\n",
      "| eval/                 |           |\n",
      "|    mean_ep_length     | 492       |\n",
      "|    mean_reward        | -1.25e+03 |\n",
      "| time/                 |           |\n",
      "|    total_timesteps    | 49397     |\n",
      "| train/                |           |\n",
      "|    entropy_loss       | -1.14     |\n",
      "|    explained_variance | -0.603    |\n",
      "|    learning_rate      | 0.001     |\n",
      "|    n_updates          | 9879      |\n",
      "|    policy_loss        | -2.34     |\n",
      "|    value_loss         | 6.42      |\n",
      "-------------------------------------\n"
     ]
    },
    {
     "name": "stdout",
     "output_type": "stream",
     "text": [
      "------------------------------------\n",
      "| rollout/              |          |\n",
      "|    ep_len_mean        | 174      |\n",
      "|    ep_rew_mean        | 0.0494   |\n",
      "| time/                 |          |\n",
      "|    fps                | 40       |\n",
      "|    iterations         | 9900     |\n",
      "|    time_elapsed       | 1217     |\n",
      "|    total_timesteps    | 49500    |\n",
      "| train/                |          |\n",
      "|    entropy_loss       | -0.348   |\n",
      "|    explained_variance | -2.97    |\n",
      "|    learning_rate      | 0.001    |\n",
      "|    n_updates          | 9899     |\n",
      "|    policy_loss        | -3.09    |\n",
      "|    value_loss         | 16.1     |\n",
      "------------------------------------\n"
     ]
    },
    {
     "name": "stdout",
     "output_type": "stream",
     "text": [
      "------------------------------------\n",
      "| rollout/              |          |\n",
      "|    ep_len_mean        | 174      |\n",
      "|    ep_rew_mean        | 0.0494   |\n",
      "| time/                 |          |\n",
      "|    fps                | 40       |\n",
      "|    iterations         | 10000    |\n",
      "|    time_elapsed       | 1227     |\n",
      "|    total_timesteps    | 50000    |\n",
      "| train/                |          |\n",
      "|    entropy_loss       | -1.06    |\n",
      "|    explained_variance | -0.17    |\n",
      "|    learning_rate      | 0.001    |\n",
      "|    n_updates          | 9999     |\n",
      "|    policy_loss        | 0.537    |\n",
      "|    value_loss         | 2.09     |\n",
      "------------------------------------\n"
     ]
    },
    {
     "name": "stdout",
     "output_type": "stream",
     "text": [
      "------------------------------------\n",
      "| rollout/              |          |\n",
      "|    ep_len_mean        | 190      |\n",
      "|    ep_rew_mean        | -1.46    |\n",
      "| time/                 |          |\n",
      "|    fps                | 40       |\n",
      "|    iterations         | 10100    |\n",
      "|    time_elapsed       | 1237     |\n",
      "|    total_timesteps    | 50500    |\n",
      "| train/                |          |\n",
      "|    entropy_loss       | -0.176   |\n",
      "|    explained_variance | -1.19    |\n",
      "|    learning_rate      | 0.001    |\n",
      "|    n_updates          | 10099    |\n",
      "|    policy_loss        | -2.06    |\n",
      "|    value_loss         | 14.5     |\n",
      "------------------------------------\n"
     ]
    },
    {
     "name": "stdout",
     "output_type": "stream",
     "text": [
      "------------------------------------\n",
      "| rollout/              |          |\n",
      "|    ep_len_mean        | 192      |\n",
      "|    ep_rew_mean        | 1.83     |\n",
      "| time/                 |          |\n",
      "|    fps                | 40       |\n",
      "|    iterations         | 10200    |\n",
      "|    time_elapsed       | 1247     |\n",
      "|    total_timesteps    | 51000    |\n",
      "| train/                |          |\n",
      "|    entropy_loss       | -0.64    |\n",
      "|    explained_variance | 0.429    |\n",
      "|    learning_rate      | 0.001    |\n",
      "|    n_updates          | 10199    |\n",
      "|    policy_loss        | -4.16    |\n",
      "|    value_loss         | 21.6     |\n",
      "------------------------------------\n"
     ]
    },
    {
     "name": "stdout",
     "output_type": "stream",
     "text": [
      "------------------------------------\n",
      "| rollout/              |          |\n",
      "|    ep_len_mean        | 192      |\n",
      "|    ep_rew_mean        | 1.83     |\n",
      "| time/                 |          |\n",
      "|    fps                | 40       |\n",
      "|    iterations         | 10300    |\n",
      "|    time_elapsed       | 1258     |\n",
      "|    total_timesteps    | 51500    |\n",
      "| train/                |          |\n",
      "|    entropy_loss       | -0.559   |\n",
      "|    explained_variance | -0.348   |\n",
      "|    learning_rate      | 0.001    |\n",
      "|    n_updates          | 10299    |\n",
      "|    policy_loss        | -0.956   |\n",
      "|    value_loss         | 20.1     |\n",
      "------------------------------------\n"
     ]
    },
    {
     "name": "stdout",
     "output_type": "stream",
     "text": [
      "------------------------------------\n",
      "| rollout/              |          |\n",
      "|    ep_len_mean        | 201      |\n",
      "|    ep_rew_mean        | 1.48     |\n",
      "| time/                 |          |\n",
      "|    fps                | 40       |\n",
      "|    iterations         | 10400    |\n",
      "|    time_elapsed       | 1268     |\n",
      "|    total_timesteps    | 52000    |\n",
      "| train/                |          |\n",
      "|    entropy_loss       | -0.872   |\n",
      "|    explained_variance | -0.0114  |\n",
      "|    learning_rate      | 0.001    |\n",
      "|    n_updates          | 10399    |\n",
      "|    policy_loss        | -0.839   |\n",
      "|    value_loss         | 11.4     |\n",
      "------------------------------------\n"
     ]
    },
    {
     "name": "stdout",
     "output_type": "stream",
     "text": [
      "------------------------------------\n",
      "| rollout/              |          |\n",
      "|    ep_len_mean        | 201      |\n",
      "|    ep_rew_mean        | 1.48     |\n",
      "| time/                 |          |\n",
      "|    fps                | 41       |\n",
      "|    iterations         | 10500    |\n",
      "|    time_elapsed       | 1278     |\n",
      "|    total_timesteps    | 52500    |\n",
      "| train/                |          |\n",
      "|    entropy_loss       | -0.543   |\n",
      "|    explained_variance | 0.317    |\n",
      "|    learning_rate      | 0.001    |\n",
      "|    n_updates          | 10499    |\n",
      "|    policy_loss        | -0.0875  |\n",
      "|    value_loss         | 1.98     |\n",
      "------------------------------------\n"
     ]
    },
    {
     "name": "stdout",
     "output_type": "stream",
     "text": [
      "------------------------------------\n",
      "| rollout/              |          |\n",
      "|    ep_len_mean        | 210      |\n",
      "|    ep_rew_mean        | -0.168   |\n",
      "| time/                 |          |\n",
      "|    fps                | 41       |\n",
      "|    iterations         | 10600    |\n",
      "|    time_elapsed       | 1289     |\n",
      "|    total_timesteps    | 53000    |\n",
      "| train/                |          |\n",
      "|    entropy_loss       | -0.383   |\n",
      "|    explained_variance | -0.0134  |\n",
      "|    learning_rate      | 0.001    |\n",
      "|    n_updates          | 10599    |\n",
      "|    policy_loss        | 2.15     |\n",
      "|    value_loss         | 52.3     |\n",
      "------------------------------------\n"
     ]
    },
    {
     "name": "stdout",
     "output_type": "stream",
     "text": [
      "------------------------------------\n",
      "| rollout/              |          |\n",
      "|    ep_len_mean        | 212      |\n",
      "|    ep_rew_mean        | -3.58    |\n",
      "| time/                 |          |\n",
      "|    fps                | 41       |\n",
      "|    iterations         | 10700    |\n",
      "|    time_elapsed       | 1299     |\n",
      "|    total_timesteps    | 53500    |\n",
      "| train/                |          |\n",
      "|    entropy_loss       | -0.908   |\n",
      "|    explained_variance | 0.372    |\n",
      "|    learning_rate      | 0.001    |\n",
      "|    n_updates          | 10699    |\n",
      "|    policy_loss        | 0.449    |\n",
      "|    value_loss         | 1.26     |\n",
      "------------------------------------\n"
     ]
    },
    {
     "name": "stdout",
     "output_type": "stream",
     "text": [
      "------------------------------------\n",
      "| rollout/              |          |\n",
      "|    ep_len_mean        | 212      |\n",
      "|    ep_rew_mean        | -3.58    |\n",
      "| time/                 |          |\n",
      "|    fps                | 41       |\n",
      "|    iterations         | 10800    |\n",
      "|    time_elapsed       | 1309     |\n",
      "|    total_timesteps    | 54000    |\n",
      "| train/                |          |\n",
      "|    entropy_loss       | -0.31    |\n",
      "|    explained_variance | 0.982    |\n",
      "|    learning_rate      | 0.001    |\n",
      "|    n_updates          | 10799    |\n",
      "|    policy_loss        | 0.464    |\n",
      "|    value_loss         | 0.739    |\n",
      "------------------------------------\n"
     ]
    },
    {
     "name": "stdout",
     "output_type": "stream",
     "text": [
      "------------------------------------\n",
      "| rollout/              |          |\n",
      "|    ep_len_mean        | 221      |\n",
      "|    ep_rew_mean        | -1.99    |\n",
      "| time/                 |          |\n",
      "|    fps                | 41       |\n",
      "|    iterations         | 10900    |\n",
      "|    time_elapsed       | 1319     |\n",
      "|    total_timesteps    | 54500    |\n",
      "| train/                |          |\n",
      "|    entropy_loss       | -0.189   |\n",
      "|    explained_variance | 0.767    |\n",
      "|    learning_rate      | 0.001    |\n",
      "|    n_updates          | 10899    |\n",
      "|    policy_loss        | -0.0245  |\n",
      "|    value_loss         | 2.38     |\n",
      "------------------------------------\n"
     ]
    },
    {
     "name": "stdout",
     "output_type": "stream",
     "text": [
      "------------------------------------\n",
      "| rollout/              |          |\n",
      "|    ep_len_mean        | 222      |\n",
      "|    ep_rew_mean        | -1.94    |\n",
      "| time/                 |          |\n",
      "|    fps                | 41       |\n",
      "|    iterations         | 11000    |\n",
      "|    time_elapsed       | 1330     |\n",
      "|    total_timesteps    | 55000    |\n",
      "| train/                |          |\n",
      "|    entropy_loss       | -0.454   |\n",
      "|    explained_variance | -0.259   |\n",
      "|    learning_rate      | 0.001    |\n",
      "|    n_updates          | 10999    |\n",
      "|    policy_loss        | 0.0162   |\n",
      "|    value_loss         | 3.16     |\n",
      "------------------------------------\n"
     ]
    },
    {
     "name": "stdout",
     "output_type": "stream",
     "text": [
      "------------------------------------\n",
      "| rollout/              |          |\n",
      "|    ep_len_mean        | 224      |\n",
      "|    ep_rew_mean        | -3.77    |\n",
      "| time/                 |          |\n",
      "|    fps                | 41       |\n",
      "|    iterations         | 11100    |\n",
      "|    time_elapsed       | 1340     |\n",
      "|    total_timesteps    | 55500    |\n",
      "| train/                |          |\n",
      "|    entropy_loss       | -0.258   |\n",
      "|    explained_variance | 0.474    |\n",
      "|    learning_rate      | 0.001    |\n",
      "|    n_updates          | 11099    |\n",
      "|    policy_loss        | 0.158    |\n",
      "|    value_loss         | 48.5     |\n",
      "------------------------------------\n"
     ]
    },
    {
     "name": "stdout",
     "output_type": "stream",
     "text": [
      "------------------------------------\n",
      "| rollout/              |          |\n",
      "|    ep_len_mean        | 224      |\n",
      "|    ep_rew_mean        | -3.77    |\n",
      "| time/                 |          |\n",
      "|    fps                | 41       |\n",
      "|    iterations         | 11200    |\n",
      "|    time_elapsed       | 1350     |\n",
      "|    total_timesteps    | 56000    |\n",
      "| train/                |          |\n",
      "|    entropy_loss       | -0.154   |\n",
      "|    explained_variance | -1.29    |\n",
      "|    learning_rate      | 0.001    |\n",
      "|    n_updates          | 11199    |\n",
      "|    policy_loss        | 0.64     |\n",
      "|    value_loss         | 213      |\n",
      "------------------------------------\n"
     ]
    },
    {
     "name": "stdout",
     "output_type": "stream",
     "text": [
      "------------------------------------\n",
      "| rollout/              |          |\n",
      "|    ep_len_mean        | 232      |\n",
      "|    ep_rew_mean        | 0.38     |\n",
      "| time/                 |          |\n",
      "|    fps                | 41       |\n",
      "|    iterations         | 11300    |\n",
      "|    time_elapsed       | 1361     |\n",
      "|    total_timesteps    | 56500    |\n",
      "| train/                |          |\n",
      "|    entropy_loss       | -0.409   |\n",
      "|    explained_variance | -0.131   |\n",
      "|    learning_rate      | 0.001    |\n",
      "|    n_updates          | 11299    |\n",
      "|    policy_loss        | 3.64     |\n",
      "|    value_loss         | 24.3     |\n",
      "------------------------------------\n"
     ]
    },
    {
     "name": "stdout",
     "output_type": "stream",
     "text": [
      "------------------------------------\n",
      "| rollout/              |          |\n",
      "|    ep_len_mean        | 230      |\n",
      "|    ep_rew_mean        | -4.48    |\n",
      "| time/                 |          |\n",
      "|    fps                | 41       |\n",
      "|    iterations         | 11400    |\n",
      "|    time_elapsed       | 1371     |\n",
      "|    total_timesteps    | 57000    |\n",
      "| train/                |          |\n",
      "|    entropy_loss       | -0.00614 |\n",
      "|    explained_variance | 0.514    |\n",
      "|    learning_rate      | 0.001    |\n",
      "|    n_updates          | 11399    |\n",
      "|    policy_loss        | 0.00629  |\n",
      "|    value_loss         | 3.57e+03 |\n",
      "------------------------------------\n"
     ]
    },
    {
     "name": "stdout",
     "output_type": "stream",
     "text": [
      "------------------------------------\n",
      "| rollout/              |          |\n",
      "|    ep_len_mean        | 231      |\n",
      "|    ep_rew_mean        | -3.51    |\n",
      "| time/                 |          |\n",
      "|    fps                | 41       |\n",
      "|    iterations         | 11500    |\n",
      "|    time_elapsed       | 1381     |\n",
      "|    total_timesteps    | 57500    |\n",
      "| train/                |          |\n",
      "|    entropy_loss       | -0.27    |\n",
      "|    explained_variance | 0.769    |\n",
      "|    learning_rate      | 0.001    |\n",
      "|    n_updates          | 11499    |\n",
      "|    policy_loss        | -0.608   |\n",
      "|    value_loss         | 20       |\n",
      "------------------------------------\n"
     ]
    },
    {
     "name": "stdout",
     "output_type": "stream",
     "text": [
      "------------------------------------\n",
      "| rollout/              |          |\n",
      "|    ep_len_mean        | 233      |\n",
      "|    ep_rew_mean        | -2.04    |\n",
      "| time/                 |          |\n",
      "|    fps                | 41       |\n",
      "|    iterations         | 11600    |\n",
      "|    time_elapsed       | 1392     |\n",
      "|    total_timesteps    | 58000    |\n",
      "| train/                |          |\n",
      "|    entropy_loss       | -0.292   |\n",
      "|    explained_variance | 0.998    |\n",
      "|    learning_rate      | 0.001    |\n",
      "|    n_updates          | 11599    |\n",
      "|    policy_loss        | 0.0798   |\n",
      "|    value_loss         | 0.636    |\n",
      "------------------------------------\n"
     ]
    },
    {
     "name": "stdout",
     "output_type": "stream",
     "text": [
      "------------------------------------\n",
      "| rollout/              |          |\n",
      "|    ep_len_mean        | 233      |\n",
      "|    ep_rew_mean        | -1.76    |\n",
      "| time/                 |          |\n",
      "|    fps                | 41       |\n",
      "|    iterations         | 11700    |\n",
      "|    time_elapsed       | 1402     |\n",
      "|    total_timesteps    | 58500    |\n",
      "| train/                |          |\n",
      "|    entropy_loss       | -0.742   |\n",
      "|    explained_variance | 0.556    |\n",
      "|    learning_rate      | 0.001    |\n",
      "|    n_updates          | 11699    |\n",
      "|    policy_loss        | 1.13     |\n",
      "|    value_loss         | 1.37     |\n",
      "------------------------------------\n"
     ]
    },
    {
     "name": "stdout",
     "output_type": "stream",
     "text": [
      "------------------------------------\n",
      "| rollout/              |          |\n",
      "|    ep_len_mean        | 232      |\n",
      "|    ep_rew_mean        | 1.24     |\n",
      "| time/                 |          |\n",
      "|    fps                | 41       |\n",
      "|    iterations         | 11800    |\n",
      "|    time_elapsed       | 1412     |\n",
      "|    total_timesteps    | 59000    |\n",
      "| train/                |          |\n",
      "|    entropy_loss       | -0.278   |\n",
      "|    explained_variance | -0.848   |\n",
      "|    learning_rate      | 0.001    |\n",
      "|    n_updates          | 11799    |\n",
      "|    policy_loss        | 0.244    |\n",
      "|    value_loss         | 171      |\n",
      "------------------------------------\n"
     ]
    },
    {
     "data": {
      "text/html": [
       "<pre style=\"white-space:pre;overflow-x:auto;line-height:normal;font-family:Menlo,'DejaVu Sans Mono',consolas,'Courier New',monospace\">Eval num_timesteps=59397, episode_reward=147.97 +/- 103.43\n",
       "</pre>\n"
      ],
      "text/plain": [
       "Eval num_timesteps=59397, episode_reward=147.97 +/- 103.43\n"
      ]
     },
     "metadata": {},
     "output_type": "display_data"
    },
    {
     "data": {
      "text/html": [
       "<pre style=\"white-space:pre;overflow-x:auto;line-height:normal;font-family:Menlo,'DejaVu Sans Mono',consolas,'Courier New',monospace\">Episode length: 202.20 +/- 67.89\n",
       "</pre>\n"
      ],
      "text/plain": [
       "Episode length: 202.20 +/- 67.89\n"
      ]
     },
     "metadata": {},
     "output_type": "display_data"
    },
    {
     "name": "stdout",
     "output_type": "stream",
     "text": [
      "------------------------------------\n",
      "| eval/                 |          |\n",
      "|    mean_ep_length     | 202      |\n",
      "|    mean_reward        | 148      |\n",
      "| time/                 |          |\n",
      "|    total_timesteps    | 59397    |\n",
      "| train/                |          |\n",
      "|    entropy_loss       | -0.00502 |\n",
      "|    explained_variance | -0.156   |\n",
      "|    learning_rate      | 0.001    |\n",
      "|    n_updates          | 11879    |\n",
      "|    policy_loss        | 0.000741 |\n",
      "|    value_loss         | 2.45     |\n",
      "------------------------------------\n"
     ]
    },
    {
     "data": {
      "text/html": [
       "<pre style=\"white-space:pre;overflow-x:auto;line-height:normal;font-family:Menlo,'DejaVu Sans Mono',consolas,'Courier New',monospace\">New best mean reward!\n",
       "</pre>\n"
      ],
      "text/plain": [
       "New best mean reward!\n"
      ]
     },
     "metadata": {},
     "output_type": "display_data"
    },
    {
     "name": "stdout",
     "output_type": "stream",
     "text": [
      "------------------------------------\n",
      "| rollout/              |          |\n",
      "|    ep_len_mean        | 231      |\n",
      "|    ep_rew_mean        | 4.15     |\n",
      "| time/                 |          |\n",
      "|    fps                | 41       |\n",
      "|    iterations         | 11900    |\n",
      "|    time_elapsed       | 1444     |\n",
      "|    total_timesteps    | 59500    |\n",
      "| train/                |          |\n",
      "|    entropy_loss       | -0.0443  |\n",
      "|    explained_variance | 0.92     |\n",
      "|    learning_rate      | 0.001    |\n",
      "|    n_updates          | 11899    |\n",
      "|    policy_loss        | -1.28    |\n",
      "|    value_loss         | 1.29e+04 |\n",
      "------------------------------------\n"
     ]
    },
    {
     "name": "stdout",
     "output_type": "stream",
     "text": [
      "------------------------------------\n",
      "| rollout/              |          |\n",
      "|    ep_len_mean        | 228      |\n",
      "|    ep_rew_mean        | 5.53     |\n",
      "| time/                 |          |\n",
      "|    fps                | 41       |\n",
      "|    iterations         | 12000    |\n",
      "|    time_elapsed       | 1454     |\n",
      "|    total_timesteps    | 60000    |\n",
      "| train/                |          |\n",
      "|    entropy_loss       | -0.703   |\n",
      "|    explained_variance | 0.838    |\n",
      "|    learning_rate      | 0.001    |\n",
      "|    n_updates          | 11999    |\n",
      "|    policy_loss        | -1.8     |\n",
      "|    value_loss         | 7.07     |\n",
      "------------------------------------\n"
     ]
    },
    {
     "name": "stdout",
     "output_type": "stream",
     "text": [
      "------------------------------------\n",
      "| rollout/              |          |\n",
      "|    ep_len_mean        | 230      |\n",
      "|    ep_rew_mean        | 7.61     |\n",
      "| time/                 |          |\n",
      "|    fps                | 41       |\n",
      "|    iterations         | 12100    |\n",
      "|    time_elapsed       | 1464     |\n",
      "|    total_timesteps    | 60500    |\n",
      "| train/                |          |\n",
      "|    entropy_loss       | -0.5     |\n",
      "|    explained_variance | 0.247    |\n",
      "|    learning_rate      | 0.001    |\n",
      "|    n_updates          | 12099    |\n",
      "|    policy_loss        | -7.18    |\n",
      "|    value_loss         | 199      |\n",
      "------------------------------------\n"
     ]
    },
    {
     "name": "stdout",
     "output_type": "stream",
     "text": [
      "------------------------------------\n",
      "| rollout/              |          |\n",
      "|    ep_len_mean        | 228      |\n",
      "|    ep_rew_mean        | 4.91     |\n",
      "| time/                 |          |\n",
      "|    fps                | 41       |\n",
      "|    iterations         | 12200    |\n",
      "|    time_elapsed       | 1475     |\n",
      "|    total_timesteps    | 61000    |\n",
      "| train/                |          |\n",
      "|    entropy_loss       | -0.514   |\n",
      "|    explained_variance | -1.59    |\n",
      "|    learning_rate      | 0.001    |\n",
      "|    n_updates          | 12199    |\n",
      "|    policy_loss        | -1.81    |\n",
      "|    value_loss         | 55.4     |\n",
      "------------------------------------\n"
     ]
    },
    {
     "name": "stdout",
     "output_type": "stream",
     "text": [
      "-------------------------------------\n",
      "| rollout/              |           |\n",
      "|    ep_len_mean        | 225       |\n",
      "|    ep_rew_mean        | 5.41      |\n",
      "| time/                 |           |\n",
      "|    fps                | 41        |\n",
      "|    iterations         | 12300     |\n",
      "|    time_elapsed       | 1485      |\n",
      "|    total_timesteps    | 61500     |\n",
      "| train/                |           |\n",
      "|    entropy_loss       | -5.52e-05 |\n",
      "|    explained_variance | -3        |\n",
      "|    learning_rate      | 0.001     |\n",
      "|    n_updates          | 12299     |\n",
      "|    policy_loss        | -6.68e-05 |\n",
      "|    value_loss         | 146       |\n",
      "-------------------------------------\n"
     ]
    },
    {
     "name": "stdout",
     "output_type": "stream",
     "text": [
      "------------------------------------\n",
      "| rollout/              |          |\n",
      "|    ep_len_mean        | 220      |\n",
      "|    ep_rew_mean        | 2.61     |\n",
      "| time/                 |          |\n",
      "|    fps                | 41       |\n",
      "|    iterations         | 12400    |\n",
      "|    time_elapsed       | 1495     |\n",
      "|    total_timesteps    | 62000    |\n",
      "| train/                |          |\n",
      "|    entropy_loss       | -0.26    |\n",
      "|    explained_variance | -0.0692  |\n",
      "|    learning_rate      | 0.001    |\n",
      "|    n_updates          | 12399    |\n",
      "|    policy_loss        | 0.0563   |\n",
      "|    value_loss         | 0.873    |\n",
      "------------------------------------\n"
     ]
    },
    {
     "name": "stdout",
     "output_type": "stream",
     "text": [
      "------------------------------------\n",
      "| rollout/              |          |\n",
      "|    ep_len_mean        | 219      |\n",
      "|    ep_rew_mean        | 0.11     |\n",
      "| time/                 |          |\n",
      "|    fps                | 41       |\n",
      "|    iterations         | 12500    |\n",
      "|    time_elapsed       | 1506     |\n",
      "|    total_timesteps    | 62500    |\n",
      "| train/                |          |\n",
      "|    entropy_loss       | -0.634   |\n",
      "|    explained_variance | -3.34    |\n",
      "|    learning_rate      | 0.001    |\n",
      "|    n_updates          | 12499    |\n",
      "|    policy_loss        | -7.38    |\n",
      "|    value_loss         | 103      |\n",
      "------------------------------------\n"
     ]
    },
    {
     "name": "stdout",
     "output_type": "stream",
     "text": [
      "------------------------------------\n",
      "| rollout/              |          |\n",
      "|    ep_len_mean        | 219      |\n",
      "|    ep_rew_mean        | -0.618   |\n",
      "| time/                 |          |\n",
      "|    fps                | 41       |\n",
      "|    iterations         | 12600    |\n",
      "|    time_elapsed       | 1516     |\n",
      "|    total_timesteps    | 63000    |\n",
      "| train/                |          |\n",
      "|    entropy_loss       | -0.746   |\n",
      "|    explained_variance | -1.3     |\n",
      "|    learning_rate      | 0.001    |\n",
      "|    n_updates          | 12599    |\n",
      "|    policy_loss        | 0.393    |\n",
      "|    value_loss         | 9.14     |\n",
      "------------------------------------\n"
     ]
    },
    {
     "name": "stdout",
     "output_type": "stream",
     "text": [
      "------------------------------------\n",
      "| rollout/              |          |\n",
      "|    ep_len_mean        | 222      |\n",
      "|    ep_rew_mean        | 1.96     |\n",
      "| time/                 |          |\n",
      "|    fps                | 41       |\n",
      "|    iterations         | 12700    |\n",
      "|    time_elapsed       | 1526     |\n",
      "|    total_timesteps    | 63500    |\n",
      "| train/                |          |\n",
      "|    entropy_loss       | -0.0691  |\n",
      "|    explained_variance | 0.72     |\n",
      "|    learning_rate      | 0.001    |\n",
      "|    n_updates          | 12699    |\n",
      "|    policy_loss        | 0.0353   |\n",
      "|    value_loss         | 15.8     |\n",
      "------------------------------------\n"
     ]
    },
    {
     "name": "stdout",
     "output_type": "stream",
     "text": [
      "------------------------------------\n",
      "| rollout/              |          |\n",
      "|    ep_len_mean        | 223      |\n",
      "|    ep_rew_mean        | 3.63     |\n",
      "| time/                 |          |\n",
      "|    fps                | 41       |\n",
      "|    iterations         | 12800    |\n",
      "|    time_elapsed       | 1537     |\n",
      "|    total_timesteps    | 64000    |\n",
      "| train/                |          |\n",
      "|    entropy_loss       | -0.23    |\n",
      "|    explained_variance | 0.656    |\n",
      "|    learning_rate      | 0.001    |\n",
      "|    n_updates          | 12799    |\n",
      "|    policy_loss        | -0.103   |\n",
      "|    value_loss         | 9.93     |\n",
      "------------------------------------\n"
     ]
    },
    {
     "name": "stdout",
     "output_type": "stream",
     "text": [
      "------------------------------------\n",
      "| rollout/              |          |\n",
      "|    ep_len_mean        | 223      |\n",
      "|    ep_rew_mean        | 2.35     |\n",
      "| time/                 |          |\n",
      "|    fps                | 41       |\n",
      "|    iterations         | 12900    |\n",
      "|    time_elapsed       | 1547     |\n",
      "|    total_timesteps    | 64500    |\n",
      "| train/                |          |\n",
      "|    entropy_loss       | -0.524   |\n",
      "|    explained_variance | 0.885    |\n",
      "|    learning_rate      | 0.001    |\n",
      "|    n_updates          | 12899    |\n",
      "|    policy_loss        | 0.0581   |\n",
      "|    value_loss         | 0.492    |\n",
      "------------------------------------\n"
     ]
    },
    {
     "name": "stdout",
     "output_type": "stream",
     "text": [
      "------------------------------------\n",
      "| rollout/              |          |\n",
      "|    ep_len_mean        | 222      |\n",
      "|    ep_rew_mean        | 1.06     |\n",
      "| time/                 |          |\n",
      "|    fps                | 41       |\n",
      "|    iterations         | 13000    |\n",
      "|    time_elapsed       | 1558     |\n",
      "|    total_timesteps    | 65000    |\n",
      "| train/                |          |\n",
      "|    entropy_loss       | -0.54    |\n",
      "|    explained_variance | 0.449    |\n",
      "|    learning_rate      | 0.001    |\n",
      "|    n_updates          | 12999    |\n",
      "|    policy_loss        | -1.57    |\n",
      "|    value_loss         | 49       |\n",
      "------------------------------------\n"
     ]
    },
    {
     "name": "stdout",
     "output_type": "stream",
     "text": [
      "------------------------------------\n",
      "| rollout/              |          |\n",
      "|    ep_len_mean        | 222      |\n",
      "|    ep_rew_mean        | 0.209    |\n",
      "| time/                 |          |\n",
      "|    fps                | 41       |\n",
      "|    iterations         | 13100    |\n",
      "|    time_elapsed       | 1568     |\n",
      "|    total_timesteps    | 65500    |\n",
      "| train/                |          |\n",
      "|    entropy_loss       | -0.422   |\n",
      "|    explained_variance | 0.776    |\n",
      "|    learning_rate      | 0.001    |\n",
      "|    n_updates          | 13099    |\n",
      "|    policy_loss        | 0.193    |\n",
      "|    value_loss         | 0.949    |\n",
      "------------------------------------\n"
     ]
    },
    {
     "name": "stdout",
     "output_type": "stream",
     "text": [
      "------------------------------------\n",
      "| rollout/              |          |\n",
      "|    ep_len_mean        | 222      |\n",
      "|    ep_rew_mean        | 0.378    |\n",
      "| time/                 |          |\n",
      "|    fps                | 41       |\n",
      "|    iterations         | 13200    |\n",
      "|    time_elapsed       | 1578     |\n",
      "|    total_timesteps    | 66000    |\n",
      "| train/                |          |\n",
      "|    entropy_loss       | -0.433   |\n",
      "|    explained_variance | 0.691    |\n",
      "|    learning_rate      | 0.001    |\n",
      "|    n_updates          | 13199    |\n",
      "|    policy_loss        | 0.789    |\n",
      "|    value_loss         | 31.8     |\n",
      "------------------------------------\n"
     ]
    },
    {
     "name": "stdout",
     "output_type": "stream",
     "text": [
      "------------------------------------\n",
      "| rollout/              |          |\n",
      "|    ep_len_mean        | 224      |\n",
      "|    ep_rew_mean        | 2.13     |\n",
      "| time/                 |          |\n",
      "|    fps                | 41       |\n",
      "|    iterations         | 13300    |\n",
      "|    time_elapsed       | 1589     |\n",
      "|    total_timesteps    | 66500    |\n",
      "| train/                |          |\n",
      "|    entropy_loss       | -0.523   |\n",
      "|    explained_variance | -6.21    |\n",
      "|    learning_rate      | 0.001    |\n",
      "|    n_updates          | 13299    |\n",
      "|    policy_loss        | -8.04    |\n",
      "|    value_loss         | 720      |\n",
      "------------------------------------\n"
     ]
    },
    {
     "name": "stdout",
     "output_type": "stream",
     "text": [
      "------------------------------------\n",
      "| rollout/              |          |\n",
      "|    ep_len_mean        | 224      |\n",
      "|    ep_rew_mean        | 3.18     |\n",
      "| time/                 |          |\n",
      "|    fps                | 41       |\n",
      "|    iterations         | 13400    |\n",
      "|    time_elapsed       | 1599     |\n",
      "|    total_timesteps    | 67000    |\n",
      "| train/                |          |\n",
      "|    entropy_loss       | -0.222   |\n",
      "|    explained_variance | 0.94     |\n",
      "|    learning_rate      | 0.001    |\n",
      "|    n_updates          | 13399    |\n",
      "|    policy_loss        | 0.0105   |\n",
      "|    value_loss         | 1.55     |\n",
      "------------------------------------\n"
     ]
    },
    {
     "name": "stdout",
     "output_type": "stream",
     "text": [
      "------------------------------------\n",
      "| rollout/              |          |\n",
      "|    ep_len_mean        | 225      |\n",
      "|    ep_rew_mean        | 5.55     |\n",
      "| time/                 |          |\n",
      "|    fps                | 41       |\n",
      "|    iterations         | 13500    |\n",
      "|    time_elapsed       | 1610     |\n",
      "|    total_timesteps    | 67500    |\n",
      "| train/                |          |\n",
      "|    entropy_loss       | -0.434   |\n",
      "|    explained_variance | 0.872    |\n",
      "|    learning_rate      | 0.001    |\n",
      "|    n_updates          | 13499    |\n",
      "|    policy_loss        | 0.281    |\n",
      "|    value_loss         | 1.64     |\n",
      "------------------------------------\n"
     ]
    },
    {
     "name": "stdout",
     "output_type": "stream",
     "text": [
      "------------------------------------\n",
      "| rollout/              |          |\n",
      "|    ep_len_mean        | 227      |\n",
      "|    ep_rew_mean        | 7        |\n",
      "| time/                 |          |\n",
      "|    fps                | 41       |\n",
      "|    iterations         | 13600    |\n",
      "|    time_elapsed       | 1620     |\n",
      "|    total_timesteps    | 68000    |\n",
      "| train/                |          |\n",
      "|    entropy_loss       | -0.858   |\n",
      "|    explained_variance | -12.8    |\n",
      "|    learning_rate      | 0.001    |\n",
      "|    n_updates          | 13599    |\n",
      "|    policy_loss        | -3.88    |\n",
      "|    value_loss         | 97.3     |\n",
      "------------------------------------\n"
     ]
    },
    {
     "name": "stdout",
     "output_type": "stream",
     "text": [
      "------------------------------------\n",
      "| rollout/              |          |\n",
      "|    ep_len_mean        | 228      |\n",
      "|    ep_rew_mean        | 8.66     |\n",
      "| time/                 |          |\n",
      "|    fps                | 42       |\n",
      "|    iterations         | 13700    |\n",
      "|    time_elapsed       | 1630     |\n",
      "|    total_timesteps    | 68500    |\n",
      "| train/                |          |\n",
      "|    entropy_loss       | -0.388   |\n",
      "|    explained_variance | 0.0257   |\n",
      "|    learning_rate      | 0.001    |\n",
      "|    n_updates          | 13699    |\n",
      "|    policy_loss        | 0.0885   |\n",
      "|    value_loss         | 1.72     |\n",
      "------------------------------------\n"
     ]
    },
    {
     "name": "stdout",
     "output_type": "stream",
     "text": [
      "------------------------------------\n",
      "| rollout/              |          |\n",
      "|    ep_len_mean        | 228      |\n",
      "|    ep_rew_mean        | 10       |\n",
      "| time/                 |          |\n",
      "|    fps                | 42       |\n",
      "|    iterations         | 13800    |\n",
      "|    time_elapsed       | 1641     |\n",
      "|    total_timesteps    | 69000    |\n",
      "| train/                |          |\n",
      "|    entropy_loss       | -0.289   |\n",
      "|    explained_variance | 0.885    |\n",
      "|    learning_rate      | 0.001    |\n",
      "|    n_updates          | 13799    |\n",
      "|    policy_loss        | 0.321    |\n",
      "|    value_loss         | 2.05     |\n",
      "------------------------------------\n"
     ]
    },
    {
     "data": {
      "text/html": [
       "<pre style=\"white-space:pre;overflow-x:auto;line-height:normal;font-family:Menlo,'DejaVu Sans Mono',consolas,'Courier New',monospace\">Eval num_timesteps=69397, episode_reward=13.80 +/- 11.93\n",
       "</pre>\n"
      ],
      "text/plain": [
       "Eval num_timesteps=69397, episode_reward=13.80 +/- 11.93\n"
      ]
     },
     "metadata": {},
     "output_type": "display_data"
    },
    {
     "data": {
      "text/html": [
       "<pre style=\"white-space:pre;overflow-x:auto;line-height:normal;font-family:Menlo,'DejaVu Sans Mono',consolas,'Courier New',monospace\">Episode length: 188.60 +/- 47.64\n",
       "</pre>\n"
      ],
      "text/plain": [
       "Episode length: 188.60 +/- 47.64\n"
      ]
     },
     "metadata": {},
     "output_type": "display_data"
    },
    {
     "name": "stdout",
     "output_type": "stream",
     "text": [
      "------------------------------------\n",
      "| eval/                 |          |\n",
      "|    mean_ep_length     | 189      |\n",
      "|    mean_reward        | 13.8     |\n",
      "| time/                 |          |\n",
      "|    total_timesteps    | 69397    |\n",
      "| train/                |          |\n",
      "|    entropy_loss       | -0.0915  |\n",
      "|    explained_variance | -10.2    |\n",
      "|    learning_rate      | 0.001    |\n",
      "|    n_updates          | 13879    |\n",
      "|    policy_loss        | -0.219   |\n",
      "|    value_loss         | 1.37e+03 |\n",
      "------------------------------------\n"
     ]
    },
    {
     "name": "stdout",
     "output_type": "stream",
     "text": [
      "------------------------------------\n",
      "| rollout/              |          |\n",
      "|    ep_len_mean        | 228      |\n",
      "|    ep_rew_mean        | 11.5     |\n",
      "| time/                 |          |\n",
      "|    fps                | 41       |\n",
      "|    iterations         | 13900    |\n",
      "|    time_elapsed       | 1671     |\n",
      "|    total_timesteps    | 69500    |\n",
      "| train/                |          |\n",
      "|    entropy_loss       | -0.403   |\n",
      "|    explained_variance | 0.403    |\n",
      "|    learning_rate      | 0.001    |\n",
      "|    n_updates          | 13899    |\n",
      "|    policy_loss        | -0.166   |\n",
      "|    value_loss         | 7.48     |\n",
      "------------------------------------\n"
     ]
    },
    {
     "name": "stdout",
     "output_type": "stream",
     "text": [
      "------------------------------------\n",
      "| rollout/              |          |\n",
      "|    ep_len_mean        | 231      |\n",
      "|    ep_rew_mean        | 12.2     |\n",
      "| time/                 |          |\n",
      "|    fps                | 41       |\n",
      "|    iterations         | 14000    |\n",
      "|    time_elapsed       | 1681     |\n",
      "|    total_timesteps    | 70000    |\n",
      "| train/                |          |\n",
      "|    entropy_loss       | -0.285   |\n",
      "|    explained_variance | 0.935    |\n",
      "|    learning_rate      | 0.001    |\n",
      "|    n_updates          | 13999    |\n",
      "|    policy_loss        | -0.21    |\n",
      "|    value_loss         | 10.4     |\n",
      "------------------------------------\n"
     ]
    },
    {
     "name": "stdout",
     "output_type": "stream",
     "text": [
      "------------------------------------\n",
      "| rollout/              |          |\n",
      "|    ep_len_mean        | 230      |\n",
      "|    ep_rew_mean        | 12.4     |\n",
      "| time/                 |          |\n",
      "|    fps                | 41       |\n",
      "|    iterations         | 14100    |\n",
      "|    time_elapsed       | 1692     |\n",
      "|    total_timesteps    | 70500    |\n",
      "| train/                |          |\n",
      "|    entropy_loss       | -0.692   |\n",
      "|    explained_variance | -1.7     |\n",
      "|    learning_rate      | 0.001    |\n",
      "|    n_updates          | 14099    |\n",
      "|    policy_loss        | 5.18     |\n",
      "|    value_loss         | 81.2     |\n",
      "------------------------------------\n"
     ]
    },
    {
     "name": "stdout",
     "output_type": "stream",
     "text": [
      "------------------------------------\n",
      "| rollout/              |          |\n",
      "|    ep_len_mean        | 226      |\n",
      "|    ep_rew_mean        | 9.37     |\n",
      "| time/                 |          |\n",
      "|    fps                | 41       |\n",
      "|    iterations         | 14200    |\n",
      "|    time_elapsed       | 1702     |\n",
      "|    total_timesteps    | 71000    |\n",
      "| train/                |          |\n",
      "|    entropy_loss       | -0.539   |\n",
      "|    explained_variance | 0.292    |\n",
      "|    learning_rate      | 0.001    |\n",
      "|    n_updates          | 14199    |\n",
      "|    policy_loss        | -0.952   |\n",
      "|    value_loss         | 3.98     |\n",
      "------------------------------------\n"
     ]
    },
    {
     "name": "stdout",
     "output_type": "stream",
     "text": [
      "------------------------------------\n",
      "| rollout/              |          |\n",
      "|    ep_len_mean        | 196      |\n",
      "|    ep_rew_mean        | 5.3      |\n",
      "| time/                 |          |\n",
      "|    fps                | 41       |\n",
      "|    iterations         | 14300    |\n",
      "|    time_elapsed       | 1712     |\n",
      "|    total_timesteps    | 71500    |\n",
      "| train/                |          |\n",
      "|    entropy_loss       | -0.573   |\n",
      "|    explained_variance | 0.52     |\n",
      "|    learning_rate      | 0.001    |\n",
      "|    n_updates          | 14299    |\n",
      "|    policy_loss        | -0.124   |\n",
      "|    value_loss         | 3.08     |\n",
      "------------------------------------\n"
     ]
    },
    {
     "name": "stdout",
     "output_type": "stream",
     "text": [
      "------------------------------------\n",
      "| rollout/              |          |\n",
      "|    ep_len_mean        | 176      |\n",
      "|    ep_rew_mean        | 8.92     |\n",
      "| time/                 |          |\n",
      "|    fps                | 41       |\n",
      "|    iterations         | 14400    |\n",
      "|    time_elapsed       | 1723     |\n",
      "|    total_timesteps    | 72000    |\n",
      "| train/                |          |\n",
      "|    entropy_loss       | -0.369   |\n",
      "|    explained_variance | -0.0398  |\n",
      "|    learning_rate      | 0.001    |\n",
      "|    n_updates          | 14399    |\n",
      "|    policy_loss        | 3.2      |\n",
      "|    value_loss         | 29.4     |\n",
      "------------------------------------\n"
     ]
    },
    {
     "name": "stdout",
     "output_type": "stream",
     "text": [
      "------------------------------------\n",
      "| rollout/              |          |\n",
      "|    ep_len_mean        | 159      |\n",
      "|    ep_rew_mean        | 4.33     |\n",
      "| time/                 |          |\n",
      "|    fps                | 41       |\n",
      "|    iterations         | 14500    |\n",
      "|    time_elapsed       | 1733     |\n",
      "|    total_timesteps    | 72500    |\n",
      "| train/                |          |\n",
      "|    entropy_loss       | -0.231   |\n",
      "|    explained_variance | 0.929    |\n",
      "|    learning_rate      | 0.001    |\n",
      "|    n_updates          | 14499    |\n",
      "|    policy_loss        | -4.19    |\n",
      "|    value_loss         | 1.32e+03 |\n",
      "------------------------------------\n"
     ]
    },
    {
     "name": "stdout",
     "output_type": "stream",
     "text": [
      "------------------------------------\n",
      "| rollout/              |          |\n",
      "|    ep_len_mean        | 154      |\n",
      "|    ep_rew_mean        | 7.17     |\n",
      "| time/                 |          |\n",
      "|    fps                | 41       |\n",
      "|    iterations         | 14600    |\n",
      "|    time_elapsed       | 1744     |\n",
      "|    total_timesteps    | 73000    |\n",
      "| train/                |          |\n",
      "|    entropy_loss       | -0.303   |\n",
      "|    explained_variance | 0.748    |\n",
      "|    learning_rate      | 0.001    |\n",
      "|    n_updates          | 14599    |\n",
      "|    policy_loss        | 1.41     |\n",
      "|    value_loss         | 25.9     |\n",
      "------------------------------------\n"
     ]
    },
    {
     "name": "stdout",
     "output_type": "stream",
     "text": [
      "------------------------------------\n",
      "| rollout/              |          |\n",
      "|    ep_len_mean        | 150      |\n",
      "|    ep_rew_mean        | 4.74     |\n",
      "| time/                 |          |\n",
      "|    fps                | 41       |\n",
      "|    iterations         | 14700    |\n",
      "|    time_elapsed       | 1754     |\n",
      "|    total_timesteps    | 73500    |\n",
      "| train/                |          |\n",
      "|    entropy_loss       | -0.583   |\n",
      "|    explained_variance | -25.3    |\n",
      "|    learning_rate      | 0.001    |\n",
      "|    n_updates          | 14699    |\n",
      "|    policy_loss        | 0.374    |\n",
      "|    value_loss         | 4.39     |\n",
      "------------------------------------\n"
     ]
    },
    {
     "name": "stdout",
     "output_type": "stream",
     "text": [
      "------------------------------------\n",
      "| rollout/              |          |\n",
      "|    ep_len_mean        | 144      |\n",
      "|    ep_rew_mean        | -6.43    |\n",
      "| time/                 |          |\n",
      "|    fps                | 41       |\n",
      "|    iterations         | 14800    |\n",
      "|    time_elapsed       | 1764     |\n",
      "|    total_timesteps    | 74000    |\n",
      "| train/                |          |\n",
      "|    entropy_loss       | -0.346   |\n",
      "|    explained_variance | 0.879    |\n",
      "|    learning_rate      | 0.001    |\n",
      "|    n_updates          | 14799    |\n",
      "|    policy_loss        | -0.901   |\n",
      "|    value_loss         | 11.9     |\n",
      "------------------------------------\n"
     ]
    },
    {
     "name": "stdout",
     "output_type": "stream",
     "text": [
      "------------------------------------\n",
      "| rollout/              |          |\n",
      "|    ep_len_mean        | 137      |\n",
      "|    ep_rew_mean        | -11      |\n",
      "| time/                 |          |\n",
      "|    fps                | 41       |\n",
      "|    iterations         | 14900    |\n",
      "|    time_elapsed       | 1775     |\n",
      "|    total_timesteps    | 74500    |\n",
      "| train/                |          |\n",
      "|    entropy_loss       | -0.447   |\n",
      "|    explained_variance | 0.99     |\n",
      "|    learning_rate      | 0.001    |\n",
      "|    n_updates          | 14899    |\n",
      "|    policy_loss        | -0.186   |\n",
      "|    value_loss         | 1.44     |\n",
      "------------------------------------\n"
     ]
    },
    {
     "name": "stdout",
     "output_type": "stream",
     "text": [
      "------------------------------------\n",
      "| rollout/              |          |\n",
      "|    ep_len_mean        | 137      |\n",
      "|    ep_rew_mean        | -11.5    |\n",
      "| time/                 |          |\n",
      "|    fps                | 41       |\n",
      "|    iterations         | 15000    |\n",
      "|    time_elapsed       | 1785     |\n",
      "|    total_timesteps    | 75000    |\n",
      "| train/                |          |\n",
      "|    entropy_loss       | -0.474   |\n",
      "|    explained_variance | 0.95     |\n",
      "|    learning_rate      | 0.001    |\n",
      "|    n_updates          | 14999    |\n",
      "|    policy_loss        | 0.111    |\n",
      "|    value_loss         | 0.29     |\n",
      "------------------------------------\n"
     ]
    },
    {
     "name": "stdout",
     "output_type": "stream",
     "text": [
      "------------------------------------\n",
      "| rollout/              |          |\n",
      "|    ep_len_mean        | 136      |\n",
      "|    ep_rew_mean        | -12.3    |\n",
      "| time/                 |          |\n",
      "|    fps                | 42       |\n",
      "|    iterations         | 15100    |\n",
      "|    time_elapsed       | 1796     |\n",
      "|    total_timesteps    | 75500    |\n",
      "| train/                |          |\n",
      "|    entropy_loss       | -0.625   |\n",
      "|    explained_variance | 0.87     |\n",
      "|    learning_rate      | 0.001    |\n",
      "|    n_updates          | 15099    |\n",
      "|    policy_loss        | 0.00438  |\n",
      "|    value_loss         | 1.04     |\n",
      "------------------------------------\n"
     ]
    },
    {
     "name": "stdout",
     "output_type": "stream",
     "text": [
      "------------------------------------\n",
      "| rollout/              |          |\n",
      "|    ep_len_mean        | 133      |\n",
      "|    ep_rew_mean        | -12.4    |\n",
      "| time/                 |          |\n",
      "|    fps                | 42       |\n",
      "|    iterations         | 15200    |\n",
      "|    time_elapsed       | 1806     |\n",
      "|    total_timesteps    | 76000    |\n",
      "| train/                |          |\n",
      "|    entropy_loss       | -0.571   |\n",
      "|    explained_variance | 0.678    |\n",
      "|    learning_rate      | 0.001    |\n",
      "|    n_updates          | 15199    |\n",
      "|    policy_loss        | 1.44     |\n",
      "|    value_loss         | 10.7     |\n",
      "------------------------------------\n"
     ]
    },
    {
     "name": "stdout",
     "output_type": "stream",
     "text": [
      "------------------------------------\n",
      "| rollout/              |          |\n",
      "|    ep_len_mean        | 129      |\n",
      "|    ep_rew_mean        | -16.5    |\n",
      "| time/                 |          |\n",
      "|    fps                | 42       |\n",
      "|    iterations         | 15300    |\n",
      "|    time_elapsed       | 1817     |\n",
      "|    total_timesteps    | 76500    |\n",
      "| train/                |          |\n",
      "|    entropy_loss       | -0.746   |\n",
      "|    explained_variance | 0.79     |\n",
      "|    learning_rate      | 0.001    |\n",
      "|    n_updates          | 15299    |\n",
      "|    policy_loss        | -0.685   |\n",
      "|    value_loss         | 2.85     |\n",
      "------------------------------------\n"
     ]
    },
    {
     "name": "stdout",
     "output_type": "stream",
     "text": [
      "------------------------------------\n",
      "| rollout/              |          |\n",
      "|    ep_len_mean        | 127      |\n",
      "|    ep_rew_mean        | -21.3    |\n",
      "| time/                 |          |\n",
      "|    fps                | 42       |\n",
      "|    iterations         | 15400    |\n",
      "|    time_elapsed       | 1827     |\n",
      "|    total_timesteps    | 77000    |\n",
      "| train/                |          |\n",
      "|    entropy_loss       | -0.498   |\n",
      "|    explained_variance | -3.6     |\n",
      "|    learning_rate      | 0.001    |\n",
      "|    n_updates          | 15399    |\n",
      "|    policy_loss        | 1.41     |\n",
      "|    value_loss         | 38.1     |\n",
      "------------------------------------\n"
     ]
    },
    {
     "name": "stdout",
     "output_type": "stream",
     "text": [
      "------------------------------------\n",
      "| rollout/              |          |\n",
      "|    ep_len_mean        | 127      |\n",
      "|    ep_rew_mean        | -18.5    |\n",
      "| time/                 |          |\n",
      "|    fps                | 42       |\n",
      "|    iterations         | 15500    |\n",
      "|    time_elapsed       | 1837     |\n",
      "|    total_timesteps    | 77500    |\n",
      "| train/                |          |\n",
      "|    entropy_loss       | -0.0522  |\n",
      "|    explained_variance | -29.3    |\n",
      "|    learning_rate      | 0.001    |\n",
      "|    n_updates          | 15499    |\n",
      "|    policy_loss        | 0.00068  |\n",
      "|    value_loss         | 49       |\n",
      "------------------------------------\n"
     ]
    },
    {
     "name": "stdout",
     "output_type": "stream",
     "text": [
      "------------------------------------\n",
      "| rollout/              |          |\n",
      "|    ep_len_mean        | 126      |\n",
      "|    ep_rew_mean        | -18.8    |\n",
      "| time/                 |          |\n",
      "|    fps                | 42       |\n",
      "|    iterations         | 15600    |\n",
      "|    time_elapsed       | 1848     |\n",
      "|    total_timesteps    | 78000    |\n",
      "| train/                |          |\n",
      "|    entropy_loss       | -0.529   |\n",
      "|    explained_variance | 0.766    |\n",
      "|    learning_rate      | 0.001    |\n",
      "|    n_updates          | 15599    |\n",
      "|    policy_loss        | 0.874    |\n",
      "|    value_loss         | 2.85     |\n",
      "------------------------------------\n"
     ]
    },
    {
     "name": "stdout",
     "output_type": "stream",
     "text": [
      "------------------------------------\n",
      "| rollout/              |          |\n",
      "|    ep_len_mean        | 126      |\n",
      "|    ep_rew_mean        | -16      |\n",
      "| time/                 |          |\n",
      "|    fps                | 42       |\n",
      "|    iterations         | 15700    |\n",
      "|    time_elapsed       | 1858     |\n",
      "|    total_timesteps    | 78500    |\n",
      "| train/                |          |\n",
      "|    entropy_loss       | -0.354   |\n",
      "|    explained_variance | -1.82    |\n",
      "|    learning_rate      | 0.001    |\n",
      "|    n_updates          | 15699    |\n",
      "|    policy_loss        | -0.514   |\n",
      "|    value_loss         | 58.2     |\n",
      "------------------------------------\n"
     ]
    },
    {
     "name": "stdout",
     "output_type": "stream",
     "text": [
      "------------------------------------\n",
      "| rollout/              |          |\n",
      "|    ep_len_mean        | 123      |\n",
      "|    ep_rew_mean        | -20.1    |\n",
      "| time/                 |          |\n",
      "|    fps                | 42       |\n",
      "|    iterations         | 15800    |\n",
      "|    time_elapsed       | 1869     |\n",
      "|    total_timesteps    | 79000    |\n",
      "| train/                |          |\n",
      "|    entropy_loss       | -0.283   |\n",
      "|    explained_variance | -0.384   |\n",
      "|    learning_rate      | 0.001    |\n",
      "|    n_updates          | 15799    |\n",
      "|    policy_loss        | 1.24     |\n",
      "|    value_loss         | 3.98     |\n",
      "------------------------------------\n"
     ]
    },
    {
     "data": {
      "text/html": [
       "<pre style=\"white-space:pre;overflow-x:auto;line-height:normal;font-family:Menlo,'DejaVu Sans Mono',consolas,'Courier New',monospace\">Eval num_timesteps=79397, episode_reward=-0.09 +/- 25.43\n",
       "</pre>\n"
      ],
      "text/plain": [
       "Eval num_timesteps=79397, episode_reward=-0.09 +/- 25.43\n"
      ]
     },
     "metadata": {},
     "output_type": "display_data"
    },
    {
     "data": {
      "text/html": [
       "<pre style=\"white-space:pre;overflow-x:auto;line-height:normal;font-family:Menlo,'DejaVu Sans Mono',consolas,'Courier New',monospace\">Episode length: 137.20 +/- 13.63\n",
       "</pre>\n"
      ],
      "text/plain": [
       "Episode length: 137.20 +/- 13.63\n"
      ]
     },
     "metadata": {},
     "output_type": "display_data"
    },
    {
     "name": "stdout",
     "output_type": "stream",
     "text": [
      "------------------------------------\n",
      "| eval/                 |          |\n",
      "|    mean_ep_length     | 137      |\n",
      "|    mean_reward        | -0.0941  |\n",
      "| time/                 |          |\n",
      "|    total_timesteps    | 79397    |\n",
      "| train/                |          |\n",
      "|    entropy_loss       | -0.0215  |\n",
      "|    explained_variance | 0.144    |\n",
      "|    learning_rate      | 0.001    |\n",
      "|    n_updates          | 15879    |\n",
      "|    policy_loss        | 0.0194   |\n",
      "|    value_loss         | 40.3     |\n",
      "------------------------------------\n"
     ]
    },
    {
     "name": "stdout",
     "output_type": "stream",
     "text": [
      "------------------------------------\n",
      "| rollout/              |          |\n",
      "|    ep_len_mean        | 121      |\n",
      "|    ep_rew_mean        | -21.3    |\n",
      "| time/                 |          |\n",
      "|    fps                | 41       |\n",
      "|    iterations         | 15900    |\n",
      "|    time_elapsed       | 1893     |\n",
      "|    total_timesteps    | 79500    |\n",
      "| train/                |          |\n",
      "|    entropy_loss       | -0.27    |\n",
      "|    explained_variance | 0.0854   |\n",
      "|    learning_rate      | 0.001    |\n",
      "|    n_updates          | 15899    |\n",
      "|    policy_loss        | -0.639   |\n",
      "|    value_loss         | 88.1     |\n",
      "------------------------------------\n"
     ]
    },
    {
     "name": "stdout",
     "output_type": "stream",
     "text": [
      "------------------------------------\n",
      "| rollout/              |          |\n",
      "|    ep_len_mean        | 118      |\n",
      "|    ep_rew_mean        | -23.8    |\n",
      "| time/                 |          |\n",
      "|    fps                | 42       |\n",
      "|    iterations         | 16000    |\n",
      "|    time_elapsed       | 1904     |\n",
      "|    total_timesteps    | 80000    |\n",
      "| train/                |          |\n",
      "|    entropy_loss       | -0.876   |\n",
      "|    explained_variance | 0.995    |\n",
      "|    learning_rate      | 0.001    |\n",
      "|    n_updates          | 15999    |\n",
      "|    policy_loss        | 0.251    |\n",
      "|    value_loss         | 0.237    |\n",
      "------------------------------------\n"
     ]
    },
    {
     "name": "stdout",
     "output_type": "stream",
     "text": [
      "------------------------------------\n",
      "| rollout/              |          |\n",
      "|    ep_len_mean        | 118      |\n",
      "|    ep_rew_mean        | -25.5    |\n",
      "| time/                 |          |\n",
      "|    fps                | 42       |\n",
      "|    iterations         | 16100    |\n",
      "|    time_elapsed       | 1914     |\n",
      "|    total_timesteps    | 80500    |\n",
      "| train/                |          |\n",
      "|    entropy_loss       | -0.00324 |\n",
      "|    explained_variance | -0.00362 |\n",
      "|    learning_rate      | 0.001    |\n",
      "|    n_updates          | 16099    |\n",
      "|    policy_loss        | -0.00206 |\n",
      "|    value_loss         | 45.9     |\n",
      "------------------------------------\n"
     ]
    },
    {
     "name": "stdout",
     "output_type": "stream",
     "text": [
      "------------------------------------\n",
      "| rollout/              |          |\n",
      "|    ep_len_mean        | 116      |\n",
      "|    ep_rew_mean        | -35      |\n",
      "| time/                 |          |\n",
      "|    fps                | 42       |\n",
      "|    iterations         | 16200    |\n",
      "|    time_elapsed       | 1925     |\n",
      "|    total_timesteps    | 81000    |\n",
      "| train/                |          |\n",
      "|    entropy_loss       | -0.516   |\n",
      "|    explained_variance | 0.816    |\n",
      "|    learning_rate      | 0.001    |\n",
      "|    n_updates          | 16199    |\n",
      "|    policy_loss        | 0.822    |\n",
      "|    value_loss         | 2.03     |\n",
      "------------------------------------\n"
     ]
    },
    {
     "name": "stdout",
     "output_type": "stream",
     "text": [
      "------------------------------------\n",
      "| rollout/              |          |\n",
      "|    ep_len_mean        | 111      |\n",
      "|    ep_rew_mean        | -40.3    |\n",
      "| time/                 |          |\n",
      "|    fps                | 42       |\n",
      "|    iterations         | 16300    |\n",
      "|    time_elapsed       | 1935     |\n",
      "|    total_timesteps    | 81500    |\n",
      "| train/                |          |\n",
      "|    entropy_loss       | -0.0882  |\n",
      "|    explained_variance | -21.6    |\n",
      "|    learning_rate      | 0.001    |\n",
      "|    n_updates          | 16299    |\n",
      "|    policy_loss        | -1.53    |\n",
      "|    value_loss         | 9.5e+03  |\n",
      "------------------------------------\n"
     ]
    },
    {
     "name": "stdout",
     "output_type": "stream",
     "text": [
      "------------------------------------\n",
      "| rollout/              |          |\n",
      "|    ep_len_mean        | 110      |\n",
      "|    ep_rew_mean        | -40.1    |\n",
      "| time/                 |          |\n",
      "|    fps                | 42       |\n",
      "|    iterations         | 16400    |\n",
      "|    time_elapsed       | 1946     |\n",
      "|    total_timesteps    | 82000    |\n",
      "| train/                |          |\n",
      "|    entropy_loss       | -0.345   |\n",
      "|    explained_variance | -0.787   |\n",
      "|    learning_rate      | 0.001    |\n",
      "|    n_updates          | 16399    |\n",
      "|    policy_loss        | 0.08     |\n",
      "|    value_loss         | 0.175    |\n",
      "------------------------------------\n"
     ]
    },
    {
     "name": "stdout",
     "output_type": "stream",
     "text": [
      "------------------------------------\n",
      "| rollout/              |          |\n",
      "|    ep_len_mean        | 110      |\n",
      "|    ep_rew_mean        | -39.9    |\n",
      "| time/                 |          |\n",
      "|    fps                | 42       |\n",
      "|    iterations         | 16500    |\n",
      "|    time_elapsed       | 1956     |\n",
      "|    total_timesteps    | 82500    |\n",
      "| train/                |          |\n",
      "|    entropy_loss       | -0.87    |\n",
      "|    explained_variance | 0.931    |\n",
      "|    learning_rate      | 0.001    |\n",
      "|    n_updates          | 16499    |\n",
      "|    policy_loss        | 0.264    |\n",
      "|    value_loss         | 0.857    |\n",
      "------------------------------------\n"
     ]
    },
    {
     "name": "stdout",
     "output_type": "stream",
     "text": [
      "------------------------------------\n",
      "| rollout/              |          |\n",
      "|    ep_len_mean        | 109      |\n",
      "|    ep_rew_mean        | -38.6    |\n",
      "| time/                 |          |\n",
      "|    fps                | 42       |\n",
      "|    iterations         | 16600    |\n",
      "|    time_elapsed       | 1967     |\n",
      "|    total_timesteps    | 83000    |\n",
      "| train/                |          |\n",
      "|    entropy_loss       | -0.806   |\n",
      "|    explained_variance | -0.337   |\n",
      "|    learning_rate      | 0.001    |\n",
      "|    n_updates          | 16599    |\n",
      "|    policy_loss        | -1.22    |\n",
      "|    value_loss         | 3.61     |\n",
      "------------------------------------\n"
     ]
    },
    {
     "name": "stdout",
     "output_type": "stream",
     "text": [
      "------------------------------------\n",
      "| rollout/              |          |\n",
      "|    ep_len_mean        | 109      |\n",
      "|    ep_rew_mean        | -36.9    |\n",
      "| time/                 |          |\n",
      "|    fps                | 42       |\n",
      "|    iterations         | 16700    |\n",
      "|    time_elapsed       | 1977     |\n",
      "|    total_timesteps    | 83500    |\n",
      "| train/                |          |\n",
      "|    entropy_loss       | -0.56    |\n",
      "|    explained_variance | 0.548    |\n",
      "|    learning_rate      | 0.001    |\n",
      "|    n_updates          | 16699    |\n",
      "|    policy_loss        | 5.71     |\n",
      "|    value_loss         | 63.1     |\n",
      "------------------------------------\n"
     ]
    },
    {
     "name": "stdout",
     "output_type": "stream",
     "text": [
      "------------------------------------\n",
      "| rollout/              |          |\n",
      "|    ep_len_mean        | 108      |\n",
      "|    ep_rew_mean        | -39      |\n",
      "| time/                 |          |\n",
      "|    fps                | 42       |\n",
      "|    iterations         | 16800    |\n",
      "|    time_elapsed       | 1988     |\n",
      "|    total_timesteps    | 84000    |\n",
      "| train/                |          |\n",
      "|    entropy_loss       | -0.506   |\n",
      "|    explained_variance | 0.337    |\n",
      "|    learning_rate      | 0.001    |\n",
      "|    n_updates          | 16799    |\n",
      "|    policy_loss        | -32.6    |\n",
      "|    value_loss         | 2.42e+03 |\n",
      "------------------------------------\n"
     ]
    },
    {
     "name": "stdout",
     "output_type": "stream",
     "text": [
      "------------------------------------\n",
      "| rollout/              |          |\n",
      "|    ep_len_mean        | 109      |\n",
      "|    ep_rew_mean        | -44.6    |\n",
      "| time/                 |          |\n",
      "|    fps                | 42       |\n",
      "|    iterations         | 16900    |\n",
      "|    time_elapsed       | 1998     |\n",
      "|    total_timesteps    | 84500    |\n",
      "| train/                |          |\n",
      "|    entropy_loss       | -0.799   |\n",
      "|    explained_variance | -2.34    |\n",
      "|    learning_rate      | 0.001    |\n",
      "|    n_updates          | 16899    |\n",
      "|    policy_loss        | 0.541    |\n",
      "|    value_loss         | 9.18     |\n",
      "------------------------------------\n"
     ]
    },
    {
     "name": "stdout",
     "output_type": "stream",
     "text": [
      "------------------------------------\n",
      "| rollout/              |          |\n",
      "|    ep_len_mean        | 108      |\n",
      "|    ep_rew_mean        | -42.8    |\n",
      "| time/                 |          |\n",
      "|    fps                | 42       |\n",
      "|    iterations         | 17000    |\n",
      "|    time_elapsed       | 2009     |\n",
      "|    total_timesteps    | 85000    |\n",
      "| train/                |          |\n",
      "|    entropy_loss       | -0.411   |\n",
      "|    explained_variance | 0.704    |\n",
      "|    learning_rate      | 0.001    |\n",
      "|    n_updates          | 16999    |\n",
      "|    policy_loss        | -1.44    |\n",
      "|    value_loss         | 11.4     |\n",
      "------------------------------------\n"
     ]
    },
    {
     "name": "stdout",
     "output_type": "stream",
     "text": [
      "------------------------------------\n",
      "| rollout/              |          |\n",
      "|    ep_len_mean        | 106      |\n",
      "|    ep_rew_mean        | -50.3    |\n",
      "| time/                 |          |\n",
      "|    fps                | 42       |\n",
      "|    iterations         | 17100    |\n",
      "|    time_elapsed       | 2019     |\n",
      "|    total_timesteps    | 85500    |\n",
      "| train/                |          |\n",
      "|    entropy_loss       | -0.823   |\n",
      "|    explained_variance | -0.373   |\n",
      "|    learning_rate      | 0.001    |\n",
      "|    n_updates          | 17099    |\n",
      "|    policy_loss        | -43.1    |\n",
      "|    value_loss         | 3.32e+03 |\n",
      "------------------------------------\n"
     ]
    },
    {
     "name": "stdout",
     "output_type": "stream",
     "text": [
      "------------------------------------\n",
      "| rollout/              |          |\n",
      "|    ep_len_mean        | 105      |\n",
      "|    ep_rew_mean        | -54.8    |\n",
      "| time/                 |          |\n",
      "|    fps                | 42       |\n",
      "|    iterations         | 17200    |\n",
      "|    time_elapsed       | 2030     |\n",
      "|    total_timesteps    | 86000    |\n",
      "| train/                |          |\n",
      "|    entropy_loss       | -0.622   |\n",
      "|    explained_variance | 0.966    |\n",
      "|    learning_rate      | 0.001    |\n",
      "|    n_updates          | 17199    |\n",
      "|    policy_loss        | -0.77    |\n",
      "|    value_loss         | 3.14     |\n",
      "------------------------------------\n"
     ]
    },
    {
     "name": "stdout",
     "output_type": "stream",
     "text": [
      "------------------------------------\n",
      "| rollout/              |          |\n",
      "|    ep_len_mean        | 103      |\n",
      "|    ep_rew_mean        | -58.3    |\n",
      "| time/                 |          |\n",
      "|    fps                | 42       |\n",
      "|    iterations         | 17300    |\n",
      "|    time_elapsed       | 2040     |\n",
      "|    total_timesteps    | 86500    |\n",
      "| train/                |          |\n",
      "|    entropy_loss       | -0.839   |\n",
      "|    explained_variance | 0.239    |\n",
      "|    learning_rate      | 0.001    |\n",
      "|    n_updates          | 17299    |\n",
      "|    policy_loss        | 0.529    |\n",
      "|    value_loss         | 0.447    |\n",
      "------------------------------------\n"
     ]
    },
    {
     "name": "stdout",
     "output_type": "stream",
     "text": [
      "------------------------------------\n",
      "| rollout/              |          |\n",
      "|    ep_len_mean        | 102      |\n",
      "|    ep_rew_mean        | -59.5    |\n",
      "| time/                 |          |\n",
      "|    fps                | 42       |\n",
      "|    iterations         | 17400    |\n",
      "|    time_elapsed       | 2051     |\n",
      "|    total_timesteps    | 87000    |\n",
      "| train/                |          |\n",
      "|    entropy_loss       | -0.0101  |\n",
      "|    explained_variance | 0.0267   |\n",
      "|    learning_rate      | 0.001    |\n",
      "|    n_updates          | 17399    |\n",
      "|    policy_loss        | -0.00966 |\n",
      "|    value_loss         | 166      |\n",
      "------------------------------------\n"
     ]
    },
    {
     "name": "stdout",
     "output_type": "stream",
     "text": [
      "------------------------------------\n",
      "| rollout/              |          |\n",
      "|    ep_len_mean        | 101      |\n",
      "|    ep_rew_mean        | -61.4    |\n",
      "| time/                 |          |\n",
      "|    fps                | 42       |\n",
      "|    iterations         | 17500    |\n",
      "|    time_elapsed       | 2061     |\n",
      "|    total_timesteps    | 87500    |\n",
      "| train/                |          |\n",
      "|    entropy_loss       | -0.839   |\n",
      "|    explained_variance | 0.615    |\n",
      "|    learning_rate      | 0.001    |\n",
      "|    n_updates          | 17499    |\n",
      "|    policy_loss        | 2.61     |\n",
      "|    value_loss         | 33.5     |\n",
      "------------------------------------\n"
     ]
    },
    {
     "name": "stdout",
     "output_type": "stream",
     "text": [
      "------------------------------------\n",
      "| rollout/              |          |\n",
      "|    ep_len_mean        | 99.7     |\n",
      "|    ep_rew_mean        | -64.9    |\n",
      "| time/                 |          |\n",
      "|    fps                | 42       |\n",
      "|    iterations         | 17600    |\n",
      "|    time_elapsed       | 2072     |\n",
      "|    total_timesteps    | 88000    |\n",
      "| train/                |          |\n",
      "|    entropy_loss       | -0.49    |\n",
      "|    explained_variance | -3.98    |\n",
      "|    learning_rate      | 0.001    |\n",
      "|    n_updates          | 17599    |\n",
      "|    policy_loss        | -5.87    |\n",
      "|    value_loss         | 296      |\n",
      "------------------------------------\n"
     ]
    },
    {
     "name": "stdout",
     "output_type": "stream",
     "text": [
      "------------------------------------\n",
      "| rollout/              |          |\n",
      "|    ep_len_mean        | 100      |\n",
      "|    ep_rew_mean        | -67.1    |\n",
      "| time/                 |          |\n",
      "|    fps                | 42       |\n",
      "|    iterations         | 17700    |\n",
      "|    time_elapsed       | 2082     |\n",
      "|    total_timesteps    | 88500    |\n",
      "| train/                |          |\n",
      "|    entropy_loss       | -0.794   |\n",
      "|    explained_variance | 0.28     |\n",
      "|    learning_rate      | 0.001    |\n",
      "|    n_updates          | 17699    |\n",
      "|    policy_loss        | 2.94     |\n",
      "|    value_loss         | 41.3     |\n",
      "------------------------------------\n"
     ]
    },
    {
     "name": "stdout",
     "output_type": "stream",
     "text": [
      "------------------------------------\n",
      "| rollout/              |          |\n",
      "|    ep_len_mean        | 101      |\n",
      "|    ep_rew_mean        | -69.9    |\n",
      "| time/                 |          |\n",
      "|    fps                | 42       |\n",
      "|    iterations         | 17800    |\n",
      "|    time_elapsed       | 2092     |\n",
      "|    total_timesteps    | 89000    |\n",
      "| train/                |          |\n",
      "|    entropy_loss       | -0.587   |\n",
      "|    explained_variance | 0.537    |\n",
      "|    learning_rate      | 0.001    |\n",
      "|    n_updates          | 17799    |\n",
      "|    policy_loss        | -0.775   |\n",
      "|    value_loss         | 14.1     |\n",
      "------------------------------------\n"
     ]
    },
    {
     "data": {
      "text/html": [
       "<pre style=\"white-space:pre;overflow-x:auto;line-height:normal;font-family:Menlo,'DejaVu Sans Mono',consolas,'Courier New',monospace\">Eval num_timesteps=89397, episode_reward=-74.84 +/- 40.41\n",
       "</pre>\n"
      ],
      "text/plain": [
       "Eval num_timesteps=89397, episode_reward=-74.84 +/- 40.41\n"
      ]
     },
     "metadata": {},
     "output_type": "display_data"
    },
    {
     "data": {
      "text/html": [
       "<pre style=\"white-space:pre;overflow-x:auto;line-height:normal;font-family:Menlo,'DejaVu Sans Mono',consolas,'Courier New',monospace\">Episode length: 149.40 +/- 17.68\n",
       "</pre>\n"
      ],
      "text/plain": [
       "Episode length: 149.40 +/- 17.68\n"
      ]
     },
     "metadata": {},
     "output_type": "display_data"
    },
    {
     "name": "stdout",
     "output_type": "stream",
     "text": [
      "------------------------------------\n",
      "| eval/                 |          |\n",
      "|    mean_ep_length     | 149      |\n",
      "|    mean_reward        | -74.8    |\n",
      "| time/                 |          |\n",
      "|    total_timesteps    | 89397    |\n",
      "| train/                |          |\n",
      "|    entropy_loss       | -0.899   |\n",
      "|    explained_variance | -0.0967  |\n",
      "|    learning_rate      | 0.001    |\n",
      "|    n_updates          | 17879    |\n",
      "|    policy_loss        | -1.07    |\n",
      "|    value_loss         | 3.63     |\n",
      "------------------------------------\n"
     ]
    },
    {
     "name": "stdout",
     "output_type": "stream",
     "text": [
      "------------------------------------\n",
      "| rollout/              |          |\n",
      "|    ep_len_mean        | 102      |\n",
      "|    ep_rew_mean        | -68.4    |\n",
      "| time/                 |          |\n",
      "|    fps                | 42       |\n",
      "|    iterations         | 17900    |\n",
      "|    time_elapsed       | 2118     |\n",
      "|    total_timesteps    | 89500    |\n",
      "| train/                |          |\n",
      "|    entropy_loss       | -0.856   |\n",
      "|    explained_variance | 0.647    |\n",
      "|    learning_rate      | 0.001    |\n",
      "|    n_updates          | 17899    |\n",
      "|    policy_loss        | -0.88    |\n",
      "|    value_loss         | 3.9      |\n",
      "------------------------------------\n"
     ]
    },
    {
     "name": "stdout",
     "output_type": "stream",
     "text": [
      "-------------------------------------\n",
      "| rollout/              |           |\n",
      "|    ep_len_mean        | 104       |\n",
      "|    ep_rew_mean        | -68.6     |\n",
      "| time/                 |           |\n",
      "|    fps                | 42        |\n",
      "|    iterations         | 18000     |\n",
      "|    time_elapsed       | 2129      |\n",
      "|    total_timesteps    | 90000     |\n",
      "| train/                |           |\n",
      "|    entropy_loss       | -0.00132  |\n",
      "|    explained_variance | -0.502    |\n",
      "|    learning_rate      | 0.001     |\n",
      "|    n_updates          | 17999     |\n",
      "|    policy_loss        | -0.000524 |\n",
      "|    value_loss         | 64.8      |\n",
      "-------------------------------------\n"
     ]
    },
    {
     "name": "stdout",
     "output_type": "stream",
     "text": [
      "------------------------------------\n",
      "| rollout/              |          |\n",
      "|    ep_len_mean        | 105      |\n",
      "|    ep_rew_mean        | -69.8    |\n",
      "| time/                 |          |\n",
      "|    fps                | 42       |\n",
      "|    iterations         | 18100    |\n",
      "|    time_elapsed       | 2139     |\n",
      "|    total_timesteps    | 90500    |\n",
      "| train/                |          |\n",
      "|    entropy_loss       | -0.533   |\n",
      "|    explained_variance | 0.987    |\n",
      "|    learning_rate      | 0.001    |\n",
      "|    n_updates          | 18099    |\n",
      "|    policy_loss        | -0.24    |\n",
      "|    value_loss         | 0.284    |\n",
      "------------------------------------\n"
     ]
    },
    {
     "name": "stdout",
     "output_type": "stream",
     "text": [
      "------------------------------------\n",
      "| rollout/              |          |\n",
      "|    ep_len_mean        | 106      |\n",
      "|    ep_rew_mean        | -71.4    |\n",
      "| time/                 |          |\n",
      "|    fps                | 42       |\n",
      "|    iterations         | 18200    |\n",
      "|    time_elapsed       | 2150     |\n",
      "|    total_timesteps    | 91000    |\n",
      "| train/                |          |\n",
      "|    entropy_loss       | -0.817   |\n",
      "|    explained_variance | 0.62     |\n",
      "|    learning_rate      | 0.001    |\n",
      "|    n_updates          | 18199    |\n",
      "|    policy_loss        | 1.21     |\n",
      "|    value_loss         | 9.32     |\n",
      "------------------------------------\n"
     ]
    },
    {
     "name": "stdout",
     "output_type": "stream",
     "text": [
      "------------------------------------\n",
      "| rollout/              |          |\n",
      "|    ep_len_mean        | 108      |\n",
      "|    ep_rew_mean        | -69.6    |\n",
      "| time/                 |          |\n",
      "|    fps                | 42       |\n",
      "|    iterations         | 18300    |\n",
      "|    time_elapsed       | 2160     |\n",
      "|    total_timesteps    | 91500    |\n",
      "| train/                |          |\n",
      "|    entropy_loss       | -0.441   |\n",
      "|    explained_variance | -1.68    |\n",
      "|    learning_rate      | 0.001    |\n",
      "|    n_updates          | 18299    |\n",
      "|    policy_loss        | -7.87    |\n",
      "|    value_loss         | 45.7     |\n",
      "------------------------------------\n"
     ]
    },
    {
     "name": "stdout",
     "output_type": "stream",
     "text": [
      "------------------------------------\n",
      "| rollout/              |          |\n",
      "|    ep_len_mean        | 111      |\n",
      "|    ep_rew_mean        | -65.8    |\n",
      "| time/                 |          |\n",
      "|    fps                | 42       |\n",
      "|    iterations         | 18400    |\n",
      "|    time_elapsed       | 2170     |\n",
      "|    total_timesteps    | 92000    |\n",
      "| train/                |          |\n",
      "|    entropy_loss       | -0.798   |\n",
      "|    explained_variance | 0.741    |\n",
      "|    learning_rate      | 0.001    |\n",
      "|    n_updates          | 18399    |\n",
      "|    policy_loss        | -0.208   |\n",
      "|    value_loss         | 0.149    |\n",
      "------------------------------------\n"
     ]
    },
    {
     "name": "stdout",
     "output_type": "stream",
     "text": [
      "------------------------------------\n",
      "| rollout/              |          |\n",
      "|    ep_len_mean        | 113      |\n",
      "|    ep_rew_mean        | -61.2    |\n",
      "| time/                 |          |\n",
      "|    fps                | 42       |\n",
      "|    iterations         | 18500    |\n",
      "|    time_elapsed       | 2181     |\n",
      "|    total_timesteps    | 92500    |\n",
      "| train/                |          |\n",
      "|    entropy_loss       | -0.851   |\n",
      "|    explained_variance | -0.929   |\n",
      "|    learning_rate      | 0.001    |\n",
      "|    n_updates          | 18499    |\n",
      "|    policy_loss        | 3.99     |\n",
      "|    value_loss         | 15.5     |\n",
      "------------------------------------\n"
     ]
    },
    {
     "name": "stdout",
     "output_type": "stream",
     "text": [
      "------------------------------------\n",
      "| rollout/              |          |\n",
      "|    ep_len_mean        | 117      |\n",
      "|    ep_rew_mean        | -62.3    |\n",
      "| time/                 |          |\n",
      "|    fps                | 42       |\n",
      "|    iterations         | 18600    |\n",
      "|    time_elapsed       | 2191     |\n",
      "|    total_timesteps    | 93000    |\n",
      "| train/                |          |\n",
      "|    entropy_loss       | -0.369   |\n",
      "|    explained_variance | 0.924    |\n",
      "|    learning_rate      | 0.001    |\n",
      "|    n_updates          | 18599    |\n",
      "|    policy_loss        | -0.00261 |\n",
      "|    value_loss         | 0.478    |\n",
      "------------------------------------\n"
     ]
    },
    {
     "name": "stdout",
     "output_type": "stream",
     "text": [
      "------------------------------------\n",
      "| rollout/              |          |\n",
      "|    ep_len_mean        | 118      |\n",
      "|    ep_rew_mean        | -62.7    |\n",
      "| time/                 |          |\n",
      "|    fps                | 42       |\n",
      "|    iterations         | 18700    |\n",
      "|    time_elapsed       | 2201     |\n",
      "|    total_timesteps    | 93500    |\n",
      "| train/                |          |\n",
      "|    entropy_loss       | -0.565   |\n",
      "|    explained_variance | 0.972    |\n",
      "|    learning_rate      | 0.001    |\n",
      "|    n_updates          | 18699    |\n",
      "|    policy_loss        | 0.551    |\n",
      "|    value_loss         | 0.57     |\n",
      "------------------------------------\n"
     ]
    },
    {
     "name": "stdout",
     "output_type": "stream",
     "text": [
      "------------------------------------\n",
      "| rollout/              |          |\n",
      "|    ep_len_mean        | 122      |\n",
      "|    ep_rew_mean        | -63.5    |\n",
      "| time/                 |          |\n",
      "|    fps                | 42       |\n",
      "|    iterations         | 18800    |\n",
      "|    time_elapsed       | 2212     |\n",
      "|    total_timesteps    | 94000    |\n",
      "| train/                |          |\n",
      "|    entropy_loss       | -0.825   |\n",
      "|    explained_variance | -0.896   |\n",
      "|    learning_rate      | 0.001    |\n",
      "|    n_updates          | 18799    |\n",
      "|    policy_loss        | 0.502    |\n",
      "|    value_loss         | 3.87     |\n",
      "------------------------------------\n"
     ]
    },
    {
     "name": "stdout",
     "output_type": "stream",
     "text": [
      "------------------------------------\n",
      "| rollout/              |          |\n",
      "|    ep_len_mean        | 122      |\n",
      "|    ep_rew_mean        | -63.5    |\n",
      "| time/                 |          |\n",
      "|    fps                | 42       |\n",
      "|    iterations         | 18900    |\n",
      "|    time_elapsed       | 2222     |\n",
      "|    total_timesteps    | 94500    |\n",
      "| train/                |          |\n",
      "|    entropy_loss       | -1.08    |\n",
      "|    explained_variance | 0.062    |\n",
      "|    learning_rate      | 0.001    |\n",
      "|    n_updates          | 18899    |\n",
      "|    policy_loss        | 0.71     |\n",
      "|    value_loss         | 2.16     |\n",
      "------------------------------------\n"
     ]
    },
    {
     "name": "stdout",
     "output_type": "stream",
     "text": [
      "------------------------------------\n",
      "| rollout/              |          |\n",
      "|    ep_len_mean        | 131      |\n",
      "|    ep_rew_mean        | -66.1    |\n",
      "| time/                 |          |\n",
      "|    fps                | 42       |\n",
      "|    iterations         | 19000    |\n",
      "|    time_elapsed       | 2232     |\n",
      "|    total_timesteps    | 95000    |\n",
      "| train/                |          |\n",
      "|    entropy_loss       | -0.83    |\n",
      "|    explained_variance | 0.992    |\n",
      "|    learning_rate      | 0.001    |\n",
      "|    n_updates          | 18999    |\n",
      "|    policy_loss        | 0.0483   |\n",
      "|    value_loss         | 0.02     |\n",
      "------------------------------------\n"
     ]
    },
    {
     "name": "stdout",
     "output_type": "stream",
     "text": [
      "------------------------------------\n",
      "| rollout/              |          |\n",
      "|    ep_len_mean        | 136      |\n",
      "|    ep_rew_mean        | -63.5    |\n",
      "| time/                 |          |\n",
      "|    fps                | 42       |\n",
      "|    iterations         | 19100    |\n",
      "|    time_elapsed       | 2243     |\n",
      "|    total_timesteps    | 95500    |\n",
      "| train/                |          |\n",
      "|    entropy_loss       | -0.608   |\n",
      "|    explained_variance | -3.22    |\n",
      "|    learning_rate      | 0.001    |\n",
      "|    n_updates          | 19099    |\n",
      "|    policy_loss        | 3.5      |\n",
      "|    value_loss         | 15.7     |\n",
      "------------------------------------\n"
     ]
    },
    {
     "name": "stdout",
     "output_type": "stream",
     "text": [
      "------------------------------------\n",
      "| rollout/              |          |\n",
      "|    ep_len_mean        | 136      |\n",
      "|    ep_rew_mean        | -63.5    |\n",
      "| time/                 |          |\n",
      "|    fps                | 42       |\n",
      "|    iterations         | 19200    |\n",
      "|    time_elapsed       | 2253     |\n",
      "|    total_timesteps    | 96000    |\n",
      "| train/                |          |\n",
      "|    entropy_loss       | -0.524   |\n",
      "|    explained_variance | -1.2     |\n",
      "|    learning_rate      | 0.001    |\n",
      "|    n_updates          | 19199    |\n",
      "|    policy_loss        | 2.25     |\n",
      "|    value_loss         | 13.3     |\n",
      "------------------------------------\n"
     ]
    },
    {
     "name": "stdout",
     "output_type": "stream",
     "text": [
      "------------------------------------\n",
      "| rollout/              |          |\n",
      "|    ep_len_mean        | 145      |\n",
      "|    ep_rew_mean        | -62.6    |\n",
      "| time/                 |          |\n",
      "|    fps                | 42       |\n",
      "|    iterations         | 19300    |\n",
      "|    time_elapsed       | 2263     |\n",
      "|    total_timesteps    | 96500    |\n",
      "| train/                |          |\n",
      "|    entropy_loss       | -0.548   |\n",
      "|    explained_variance | -0.0271  |\n",
      "|    learning_rate      | 0.001    |\n",
      "|    n_updates          | 19299    |\n",
      "|    policy_loss        | -0.047   |\n",
      "|    value_loss         | 2.29     |\n",
      "------------------------------------\n"
     ]
    },
    {
     "name": "stdout",
     "output_type": "stream",
     "text": [
      "------------------------------------\n",
      "| rollout/              |          |\n",
      "|    ep_len_mean        | 148      |\n",
      "|    ep_rew_mean        | -65.4    |\n",
      "| time/                 |          |\n",
      "|    fps                | 42       |\n",
      "|    iterations         | 19400    |\n",
      "|    time_elapsed       | 2273     |\n",
      "|    total_timesteps    | 97000    |\n",
      "| train/                |          |\n",
      "|    entropy_loss       | -0.871   |\n",
      "|    explained_variance | -1.75    |\n",
      "|    learning_rate      | 0.001    |\n",
      "|    n_updates          | 19399    |\n",
      "|    policy_loss        | 0.0307   |\n",
      "|    value_loss         | 7.74     |\n",
      "------------------------------------\n"
     ]
    },
    {
     "name": "stdout",
     "output_type": "stream",
     "text": [
      "------------------------------------\n",
      "| rollout/              |          |\n",
      "|    ep_len_mean        | 151      |\n",
      "|    ep_rew_mean        | -66.2    |\n",
      "| time/                 |          |\n",
      "|    fps                | 42       |\n",
      "|    iterations         | 19500    |\n",
      "|    time_elapsed       | 2284     |\n",
      "|    total_timesteps    | 97500    |\n",
      "| train/                |          |\n",
      "|    entropy_loss       | -0.509   |\n",
      "|    explained_variance | -1.51    |\n",
      "|    learning_rate      | 0.001    |\n",
      "|    n_updates          | 19499    |\n",
      "|    policy_loss        | -1.51    |\n",
      "|    value_loss         | 10.1     |\n",
      "------------------------------------\n"
     ]
    },
    {
     "name": "stdout",
     "output_type": "stream",
     "text": [
      "------------------------------------\n",
      "| rollout/              |          |\n",
      "|    ep_len_mean        | 154      |\n",
      "|    ep_rew_mean        | -67.9    |\n",
      "| time/                 |          |\n",
      "|    fps                | 42       |\n",
      "|    iterations         | 19600    |\n",
      "|    time_elapsed       | 2294     |\n",
      "|    total_timesteps    | 98000    |\n",
      "| train/                |          |\n",
      "|    entropy_loss       | -0.773   |\n",
      "|    explained_variance | 0.842    |\n",
      "|    learning_rate      | 0.001    |\n",
      "|    n_updates          | 19599    |\n",
      "|    policy_loss        | 1.25     |\n",
      "|    value_loss         | 4.65     |\n",
      "------------------------------------\n"
     ]
    },
    {
     "name": "stdout",
     "output_type": "stream",
     "text": [
      "------------------------------------\n",
      "| rollout/              |          |\n",
      "|    ep_len_mean        | 160      |\n",
      "|    ep_rew_mean        | -66      |\n",
      "| time/                 |          |\n",
      "|    fps                | 42       |\n",
      "|    iterations         | 19700    |\n",
      "|    time_elapsed       | 2304     |\n",
      "|    total_timesteps    | 98500    |\n",
      "| train/                |          |\n",
      "|    entropy_loss       | -0.576   |\n",
      "|    explained_variance | -3.12    |\n",
      "|    learning_rate      | 0.001    |\n",
      "|    n_updates          | 19699    |\n",
      "|    policy_loss        | -1.94    |\n",
      "|    value_loss         | 12.4     |\n",
      "------------------------------------\n"
     ]
    },
    {
     "name": "stdout",
     "output_type": "stream",
     "text": [
      "------------------------------------\n",
      "| rollout/              |          |\n",
      "|    ep_len_mean        | 162      |\n",
      "|    ep_rew_mean        | -67      |\n",
      "| time/                 |          |\n",
      "|    fps                | 42       |\n",
      "|    iterations         | 19800    |\n",
      "|    time_elapsed       | 2315     |\n",
      "|    total_timesteps    | 99000    |\n",
      "| train/                |          |\n",
      "|    entropy_loss       | -0.543   |\n",
      "|    explained_variance | 0.14     |\n",
      "|    learning_rate      | 0.001    |\n",
      "|    n_updates          | 19799    |\n",
      "|    policy_loss        | 0.329    |\n",
      "|    value_loss         | 5.96     |\n",
      "------------------------------------\n"
     ]
    },
    {
     "data": {
      "text/html": [
       "<pre style=\"white-space:pre;overflow-x:auto;line-height:normal;font-family:Menlo,'DejaVu Sans Mono',consolas,'Courier New',monospace\">Eval num_timesteps=99397, episode_reward=71.85 +/- 141.15\n",
       "</pre>\n"
      ],
      "text/plain": [
       "Eval num_timesteps=99397, episode_reward=71.85 +/- 141.15\n"
      ]
     },
     "metadata": {},
     "output_type": "display_data"
    },
    {
     "data": {
      "text/html": [
       "<pre style=\"white-space:pre;overflow-x:auto;line-height:normal;font-family:Menlo,'DejaVu Sans Mono',consolas,'Courier New',monospace\">Episode length: 840.20 +/- 77.62\n",
       "</pre>\n"
      ],
      "text/plain": [
       "Episode length: 840.20 +/- 77.62\n"
      ]
     },
     "metadata": {},
     "output_type": "display_data"
    },
    {
     "name": "stdout",
     "output_type": "stream",
     "text": [
      "------------------------------------\n",
      "| eval/                 |          |\n",
      "|    mean_ep_length     | 840      |\n",
      "|    mean_reward        | 71.8     |\n",
      "| time/                 |          |\n",
      "|    total_timesteps    | 99397    |\n",
      "| train/                |          |\n",
      "|    entropy_loss       | -0.634   |\n",
      "|    explained_variance | 0.574    |\n",
      "|    learning_rate      | 0.001    |\n",
      "|    n_updates          | 19879    |\n",
      "|    policy_loss        | 1.05     |\n",
      "|    value_loss         | 15.9     |\n",
      "------------------------------------\n"
     ]
    },
    {
     "name": "stdout",
     "output_type": "stream",
     "text": [
      "------------------------------------\n",
      "| rollout/              |          |\n",
      "|    ep_len_mean        | 165      |\n",
      "|    ep_rew_mean        | -67.5    |\n",
      "| time/                 |          |\n",
      "|    fps                | 41       |\n",
      "|    iterations         | 19900    |\n",
      "|    time_elapsed       | 2411     |\n",
      "|    total_timesteps    | 99500    |\n",
      "| train/                |          |\n",
      "|    entropy_loss       | -0.733   |\n",
      "|    explained_variance | 0.804    |\n",
      "|    learning_rate      | 0.001    |\n",
      "|    n_updates          | 19899    |\n",
      "|    policy_loss        | 0.249    |\n",
      "|    value_loss         | 0.232    |\n",
      "------------------------------------\n"
     ]
    },
    {
     "name": "stdout",
     "output_type": "stream",
     "text": [
      "------------------------------------\n",
      "| rollout/              |          |\n",
      "|    ep_len_mean        | 165      |\n",
      "|    ep_rew_mean        | -67.5    |\n",
      "| time/                 |          |\n",
      "|    fps                | 41       |\n",
      "|    iterations         | 20000    |\n",
      "|    time_elapsed       | 2422     |\n",
      "|    total_timesteps    | 100000   |\n",
      "| train/                |          |\n",
      "|    entropy_loss       | -0.596   |\n",
      "|    explained_variance | -0.627   |\n",
      "|    learning_rate      | 0.001    |\n",
      "|    n_updates          | 19999    |\n",
      "|    policy_loss        | -0.958   |\n",
      "|    value_loss         | 1.64     |\n",
      "------------------------------------\n"
     ]
    },
    {
     "data": {
      "text/html": [
       "<pre style=\"white-space:pre;overflow-x:auto;line-height:normal;font-family:Menlo,'DejaVu Sans Mono',consolas,'Courier New',monospace\"></pre>\n"
      ],
      "text/plain": []
     },
     "metadata": {},
     "output_type": "display_data"
    },
    {
     "data": {
      "text/plain": [
       "<stable_baselines3.a2c.a2c.A2C at 0x24014669250>"
      ]
     },
     "execution_count": 11,
     "metadata": {},
     "output_type": "execute_result"
    }
   ],
   "source": [
    "model = A2C(\"MlpPolicy\", vec_env, verbose=1, learning_rate=0.001, gamma=0.99)\n",
    "model.learn(total_timesteps=100000, progress_bar=True, callback=eval_callback)  # Train for 100,000 timesteps"
   ]
  },
  {
   "cell_type": "code",
   "execution_count": 12,
   "metadata": {},
   "outputs": [],
   "source": [
    "model.save(\"ActorCritic_lunar_lander\")"
   ]
  },
  {
   "cell_type": "code",
   "execution_count": 7,
   "metadata": {},
   "outputs": [],
   "source": [
    "# load the model and test the model on the environment. make sure to render the environment\n",
    "# to see the agent in action.\n",
    "model = A2C.load(\"logs/best_model.zip\")\n",
    "obs = vec_env.reset()\n",
    "while True:\n",
    "    action, _states = model.predict(obs, deterministic=True)\n",
    "    obs, rewards, dones, info = vec_env.step(action)\n",
    "    vec_env.render()\n",
    "    if dones[0]:\n",
    "        break"
   ]
  },
  {
   "cell_type": "code",
   "execution_count": null,
   "metadata": {},
   "outputs": [],
   "source": [
    "# now just load the environment with no model and see the environment in action\n",
    "env = gym.make(\"LunarLander-v3\", render_mode=\"human\")\n",
    "obs = env.reset()\n",
    "while True:\n",
    "    action = env.action_space.sample()\n",
    "    obs, rewards, dones, info = env.step(action)\n",
    "    env.render()\n",
    "    if dones:\n",
    "        break"
   ]
  }
 ],
 "metadata": {
  "kernelspec": {
   "display_name": "Python 3",
   "language": "python",
   "name": "python3"
  },
  "language_info": {
   "codemirror_mode": {
    "name": "ipython",
    "version": 3
   },
   "file_extension": ".py",
   "mimetype": "text/x-python",
   "name": "python",
   "nbconvert_exporter": "python",
   "pygments_lexer": "ipython3",
   "version": "3.11.6"
  }
 },
 "nbformat": 4,
 "nbformat_minor": 2
}
